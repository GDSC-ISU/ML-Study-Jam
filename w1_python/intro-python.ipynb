{
  "nbformat": 4,
  "nbformat_minor": 0,
  "metadata": {
    "colab": {
      "provenance": [],
      "collapsed_sections": [
        "0BOJtaVLZ-yH",
        "MJauHbdmTjz9",
        "MvgrExLtTnGo",
        "Ed0r1HsXUszF",
        "PabZ-ObGVDGt",
        "3u96mNybVTUH",
        "de4WAelbVl1S",
        "roEgebrSV5HZ",
        "W7A_2O3TWXU-",
        "hEXFSslAWZ1Z",
        "YMTos-KIWb9F",
        "JID0mOAKWf1A",
        "Mi1crrquXImI",
        "kyZnc1xEXQ2Q",
        "m5XSaYj6aOIq",
        "0mkt5rdQnQOW",
        "15ImCWYYoj_U",
        "mYY-iDuqpslS"
      ],
      "toc_visible": true
    },
    "kernelspec": {
      "name": "python3",
      "display_name": "Python 3"
    },
    "language_info": {
      "name": "python"
    }
  },
  "cells": [
    {
      "cell_type": "markdown",
      "source": [
        "## Facilitator\n",
        "\n",
        "Ali Haider - Technical Lead - GDSC Iowa State University\n",
        "\n",
        "### Links\n",
        "\n",
        "- LinkedIn: https://www.linkedin.com/in/m-ali-haider/\n",
        "- Email: mhaider@iastate.edu\n",
        "- Github: https://github.com/allihaider\n",
        "- Medium: https://medium.com/@m.allihaider\n",
        "\n",
        "\n",
        "---\n",
        "\n",
        "## Topics\n",
        "\n",
        "1. Basics\n",
        "1. Python Data Structures\n",
        "1. Control Flow Statements\n",
        "1. Functions\n",
        "1. Classes\n"
      ],
      "metadata": {
        "id": "QOub6OyLHLHq"
      }
    },
    {
      "cell_type": "markdown",
      "source": [
        "## Basics\n"
      ],
      "metadata": {
        "id": "Av69wP-KHb2P"
      }
    },
    {
      "cell_type": "markdown",
      "source": [
        "### Data Types\n"
      ],
      "metadata": {
        "id": "0BOJtaVLZ-yH"
      }
    },
    {
      "cell_type": "markdown",
      "source": [
        "- Integers: `1, 2, 3`\n",
        "- Floats: `1.0, 10.5, 47.7`\n",
        "- Booleans: `True, False`\n",
        "- Strings: `\"This is a string\"`"
      ],
      "metadata": {
        "id": "x5cubjMjaI1o"
      }
    },
    {
      "cell_type": "markdown",
      "source": [
        "### Variables"
      ],
      "metadata": {
        "id": "MJauHbdmTjz9"
      }
    },
    {
      "cell_type": "code",
      "execution_count": 10,
      "metadata": {
        "id": "c95Oa9isG331"
      },
      "outputs": [],
      "source": [
        "counter = 0\n",
        "x = False\n",
        "day_of_week = \"Wednesday\""
      ]
    },
    {
      "cell_type": "markdown",
      "source": [
        "### Print statements"
      ],
      "metadata": {
        "id": "MvgrExLtTnGo"
      }
    },
    {
      "cell_type": "code",
      "source": [
        "print(\"Hello, world!\")"
      ],
      "metadata": {
        "colab": {
          "base_uri": "https://localhost:8080/"
        },
        "id": "jYsAxxcGTCDC",
        "outputId": "35c1df0b-8302-4a38-d714-e77310fa857f"
      },
      "execution_count": 11,
      "outputs": [
        {
          "output_type": "stream",
          "name": "stdout",
          "text": [
            "Hello, world!\n"
          ]
        }
      ]
    },
    {
      "cell_type": "code",
      "source": [
        "print(f\"Today is {day_of_week}\")"
      ],
      "metadata": {
        "colab": {
          "base_uri": "https://localhost:8080/"
        },
        "id": "JEu4lXGhTn1p",
        "outputId": "fcb44478-9376-45b7-db43-5b269c6337a4"
      },
      "execution_count": 12,
      "outputs": [
        {
          "output_type": "stream",
          "name": "stdout",
          "text": [
            "Today is Wednesday\n"
          ]
        }
      ]
    },
    {
      "cell_type": "markdown",
      "source": [
        "### Comments\n"
      ],
      "metadata": {
        "id": "Ed0r1HsXUszF"
      }
    },
    {
      "cell_type": "code",
      "source": [
        "# This is a comment\n",
        "\n",
        "'''\n",
        "This is\n",
        "a multiline\n",
        "comment\n",
        "'''"
      ],
      "metadata": {
        "id": "Xuu1upczUsrC"
      },
      "execution_count": null,
      "outputs": []
    },
    {
      "cell_type": "markdown",
      "source": [
        "## Data Structures"
      ],
      "metadata": {
        "id": "tLMESIXtU2yb"
      }
    },
    {
      "cell_type": "markdown",
      "source": [
        "### Lists"
      ],
      "metadata": {
        "id": "PabZ-ObGVDGt"
      }
    },
    {
      "cell_type": "code",
      "source": [
        "# Creation\n",
        "my_list = [7, 1, 9, 3, 11]\n",
        "\n",
        "print(my_list)"
      ],
      "metadata": {
        "colab": {
          "base_uri": "https://localhost:8080/"
        },
        "id": "7z-XAa1HTp6n",
        "outputId": "715e0aed-8faa-4b42-c960-8d119d937634"
      },
      "execution_count": 30,
      "outputs": [
        {
          "output_type": "stream",
          "name": "stdout",
          "text": [
            "[7, 1, 9, 3, 11]\n"
          ]
        }
      ]
    },
    {
      "cell_type": "code",
      "source": [
        "# Adding an Element\n",
        "my_list.append(4)\n",
        "my_list.insert(0, 1)\n",
        "\n",
        "print(my_list)"
      ],
      "metadata": {
        "colab": {
          "base_uri": "https://localhost:8080/"
        },
        "id": "55L3zF1KhK-W",
        "outputId": "1e62c183-49f4-4bb7-9b0a-6e11c2d2ebe4"
      },
      "execution_count": 31,
      "outputs": [
        {
          "output_type": "stream",
          "name": "stdout",
          "text": [
            "[1, 7, 1, 9, 3, 11, 4]\n"
          ]
        }
      ]
    },
    {
      "cell_type": "code",
      "source": [
        "# Deleting an Element\n",
        "my_list.remove(4)\n",
        "\n",
        "print(my_list)"
      ],
      "metadata": {
        "colab": {
          "base_uri": "https://localhost:8080/"
        },
        "id": "JXOp_ldphK0I",
        "outputId": "028637d1-5e9f-4dbe-8e8b-36f269c0da18"
      },
      "execution_count": 32,
      "outputs": [
        {
          "output_type": "stream",
          "name": "stdout",
          "text": [
            "[1, 7, 1, 9, 3, 11]\n"
          ]
        }
      ]
    },
    {
      "cell_type": "code",
      "source": [
        "# Accessing an Element\n",
        "print(my_list[2])"
      ],
      "metadata": {
        "colab": {
          "base_uri": "https://localhost:8080/"
        },
        "id": "-8n5F-kghKqq",
        "outputId": "61a584a7-c7de-414f-876a-06824d8e1436"
      },
      "execution_count": 33,
      "outputs": [
        {
          "output_type": "stream",
          "name": "stdout",
          "text": [
            "1\n"
          ]
        }
      ]
    },
    {
      "cell_type": "code",
      "source": [
        "my_numbers = [7, 1, 9, 3, 5, 11]\n",
        "\n",
        "print(my_numbers[1:3])"
      ],
      "metadata": {
        "colab": {
          "base_uri": "https://localhost:8080/"
        },
        "id": "8BuBJY1ThVMz",
        "outputId": "a6ebfe2f-68c6-4255-96ac-7370b08c70bc"
      },
      "execution_count": 34,
      "outputs": [
        {
          "output_type": "stream",
          "name": "stdout",
          "text": [
            "[1, 9]\n"
          ]
        }
      ]
    },
    {
      "cell_type": "code",
      "source": [
        "# Convenience functions\n",
        "sorted(my_numbers)"
      ],
      "metadata": {
        "colab": {
          "base_uri": "https://localhost:8080/"
        },
        "id": "iCQToo89hk3U",
        "outputId": "ce3dfabb-26b0-4978-85a3-f85d2fbc43c5"
      },
      "execution_count": 35,
      "outputs": [
        {
          "output_type": "execute_result",
          "data": {
            "text/plain": [
              "[1, 3, 5, 7, 9, 11]"
            ]
          },
          "metadata": {},
          "execution_count": 35
        }
      ]
    },
    {
      "cell_type": "code",
      "source": [
        "sum(my_numbers)"
      ],
      "metadata": {
        "colab": {
          "base_uri": "https://localhost:8080/"
        },
        "id": "26n0LmHshyUT",
        "outputId": "a1357f48-e48f-4c92-e979-31f4e81b4433"
      },
      "execution_count": 36,
      "outputs": [
        {
          "output_type": "execute_result",
          "data": {
            "text/plain": [
              "36"
            ]
          },
          "metadata": {},
          "execution_count": 36
        }
      ]
    },
    {
      "cell_type": "code",
      "source": [
        "max(my_numbers)"
      ],
      "metadata": {
        "colab": {
          "base_uri": "https://localhost:8080/"
        },
        "id": "XoRzk2Rnh1EX",
        "outputId": "986b2065-16e7-4c40-9358-94359b00bcc9"
      },
      "execution_count": 37,
      "outputs": [
        {
          "output_type": "execute_result",
          "data": {
            "text/plain": [
              "11"
            ]
          },
          "metadata": {},
          "execution_count": 37
        }
      ]
    },
    {
      "cell_type": "code",
      "source": [
        "min(my_numbers)"
      ],
      "metadata": {
        "colab": {
          "base_uri": "https://localhost:8080/"
        },
        "id": "_ONah_KAh2ma",
        "outputId": "64edcfa5-765c-41eb-9777-3d80a6525834"
      },
      "execution_count": 38,
      "outputs": [
        {
          "output_type": "execute_result",
          "data": {
            "text/plain": [
              "1"
            ]
          },
          "metadata": {},
          "execution_count": 38
        }
      ]
    },
    {
      "cell_type": "markdown",
      "source": [
        "### Dictionary"
      ],
      "metadata": {
        "id": "3u96mNybVTUH"
      }
    },
    {
      "cell_type": "code",
      "source": [
        "# Creation\n",
        "my_dictionary = {\"Monday\": 1, \"Tuesday\": 2}\n",
        "print(my_dictionary)"
      ],
      "metadata": {
        "colab": {
          "base_uri": "https://localhost:8080/"
        },
        "id": "75t1KHJ6VGLn",
        "outputId": "87059420-5ddc-4af0-e052-a0a6d51fd98c"
      },
      "execution_count": 39,
      "outputs": [
        {
          "output_type": "stream",
          "name": "stdout",
          "text": [
            "{'Monday': 1, 'Tuesday': 2}\n"
          ]
        }
      ]
    },
    {
      "cell_type": "code",
      "source": [
        "# Adding an Element\n",
        "my_dictionary[\"Wednesday\"] = 3\n",
        "print(my_dictionary)"
      ],
      "metadata": {
        "colab": {
          "base_uri": "https://localhost:8080/"
        },
        "id": "KlL78DhbiYaF",
        "outputId": "47895c6c-4f81-420e-9b04-75eae1caad5b"
      },
      "execution_count": 40,
      "outputs": [
        {
          "output_type": "stream",
          "name": "stdout",
          "text": [
            "{'Monday': 1, 'Tuesday': 2, 'Wednesday': 3}\n"
          ]
        }
      ]
    },
    {
      "cell_type": "code",
      "source": [
        "# Deleting an Element\n",
        "del my_dictionary[\"Wednesday\"]\n",
        "print(my_dictionary)"
      ],
      "metadata": {
        "colab": {
          "base_uri": "https://localhost:8080/"
        },
        "id": "H-7DPEx6iaW3",
        "outputId": "fa90193c-854c-442c-bbee-1b44b5bc15d5"
      },
      "execution_count": 41,
      "outputs": [
        {
          "output_type": "stream",
          "name": "stdout",
          "text": [
            "{'Monday': 1, 'Tuesday': 2}\n"
          ]
        }
      ]
    },
    {
      "cell_type": "code",
      "source": [
        "# Accessing an Element\n",
        "print(my_dictionary[\"Monday\"])"
      ],
      "metadata": {
        "colab": {
          "base_uri": "https://localhost:8080/"
        },
        "id": "9aw0SlyRib0g",
        "outputId": "44de236f-62f2-4b8e-d1e8-de3f1c9f6572"
      },
      "execution_count": 42,
      "outputs": [
        {
          "output_type": "stream",
          "name": "stdout",
          "text": [
            "1\n"
          ]
        }
      ]
    },
    {
      "cell_type": "markdown",
      "source": [
        "### Tuples"
      ],
      "metadata": {
        "id": "de4WAelbVl1S"
      }
    },
    {
      "cell_type": "code",
      "source": [
        "#Creation\n",
        "my_tuple = (6, 7, 8)\n",
        "print(my_tuple)"
      ],
      "metadata": {
        "colab": {
          "base_uri": "https://localhost:8080/"
        },
        "id": "XLC-dq_IVljk",
        "outputId": "6323b544-ec56-46c9-a334-aa56782ab79e"
      },
      "execution_count": 43,
      "outputs": [
        {
          "output_type": "stream",
          "name": "stdout",
          "text": [
            "(6, 7, 8)\n"
          ]
        }
      ]
    },
    {
      "cell_type": "code",
      "source": [
        "#Accessing an Element\n",
        "my_tuple[0]"
      ],
      "metadata": {
        "colab": {
          "base_uri": "https://localhost:8080/"
        },
        "id": "byGjE6vGig2N",
        "outputId": "f3fc9afe-6b71-4624-c99d-a1c50d56bf1f"
      },
      "execution_count": 44,
      "outputs": [
        {
          "output_type": "execute_result",
          "data": {
            "text/plain": [
              "6"
            ]
          },
          "metadata": {},
          "execution_count": 44
        }
      ]
    },
    {
      "cell_type": "code",
      "source": [
        "# my_tuple[0] = 11"
      ],
      "metadata": {
        "id": "q4a4_VSyijea"
      },
      "execution_count": 47,
      "outputs": []
    },
    {
      "cell_type": "markdown",
      "source": [
        "### Sets"
      ],
      "metadata": {
        "id": "roEgebrSV5HZ"
      }
    },
    {
      "cell_type": "code",
      "source": [
        "# Creation\n",
        "my_set = {6, 7, 8}\n",
        "print(my_set)"
      ],
      "metadata": {
        "colab": {
          "base_uri": "https://localhost:8080/"
        },
        "id": "hXyeUlBAVXtU",
        "outputId": "78565897-3a64-42e2-bdc1-a5261d8d56e6"
      },
      "execution_count": 48,
      "outputs": [
        {
          "output_type": "stream",
          "name": "stdout",
          "text": [
            "{8, 6, 7}\n"
          ]
        }
      ]
    },
    {
      "cell_type": "code",
      "source": [
        "# Checking if an element exists in set\n",
        "6 in my_set"
      ],
      "metadata": {
        "colab": {
          "base_uri": "https://localhost:8080/"
        },
        "id": "pF38Zr4ki768",
        "outputId": "ab01de5d-f780-46e6-b069-c1c0d9583645"
      },
      "execution_count": 49,
      "outputs": [
        {
          "output_type": "execute_result",
          "data": {
            "text/plain": [
              "True"
            ]
          },
          "metadata": {},
          "execution_count": 49
        }
      ]
    },
    {
      "cell_type": "code",
      "source": [
        "# Set operations"
      ],
      "metadata": {
        "id": "QofVbkqYjPn7"
      },
      "execution_count": 60,
      "outputs": []
    },
    {
      "cell_type": "code",
      "source": [
        "another_set = {7, 8, 9}"
      ],
      "metadata": {
        "id": "cLS1rPpmi_C6"
      },
      "execution_count": 61,
      "outputs": []
    },
    {
      "cell_type": "code",
      "source": [
        "my_set.union(another_set)"
      ],
      "metadata": {
        "colab": {
          "base_uri": "https://localhost:8080/"
        },
        "id": "tLN0DqRJjDY8",
        "outputId": "5eddbe21-3f22-4b66-ed52-fe6949efa59d"
      },
      "execution_count": 62,
      "outputs": [
        {
          "output_type": "execute_result",
          "data": {
            "text/plain": [
              "{6, 7, 8, 9}"
            ]
          },
          "metadata": {},
          "execution_count": 62
        }
      ]
    },
    {
      "cell_type": "code",
      "source": [
        "another_set - my_set"
      ],
      "metadata": {
        "colab": {
          "base_uri": "https://localhost:8080/"
        },
        "id": "qGELOxbtjLPD",
        "outputId": "2c660b57-f617-4b56-e786-42236e693c11"
      },
      "execution_count": 63,
      "outputs": [
        {
          "output_type": "execute_result",
          "data": {
            "text/plain": [
              "{9}"
            ]
          },
          "metadata": {},
          "execution_count": 63
        }
      ]
    },
    {
      "cell_type": "markdown",
      "source": [
        "## Control flow"
      ],
      "metadata": {
        "id": "xaeLRws7WU13"
      }
    },
    {
      "cell_type": "markdown",
      "source": [
        "### Regular for loops"
      ],
      "metadata": {
        "id": "W7A_2O3TWXU-"
      }
    },
    {
      "cell_type": "code",
      "source": [
        "primes = [1, 3, 5, 7, 11]\n",
        "\n",
        "for number in primes:\n",
        "  print(number)"
      ],
      "metadata": {
        "colab": {
          "base_uri": "https://localhost:8080/"
        },
        "id": "3l9uwrOhWYlN",
        "outputId": "f34f6752-5d17-462d-dda3-013e0524b2ac"
      },
      "execution_count": 64,
      "outputs": [
        {
          "output_type": "stream",
          "name": "stdout",
          "text": [
            "1\n",
            "3\n",
            "5\n",
            "7\n",
            "11\n"
          ]
        }
      ]
    },
    {
      "cell_type": "markdown",
      "source": [
        "### For loops based on indices\n"
      ],
      "metadata": {
        "id": "hEXFSslAWZ1Z"
      }
    },
    {
      "cell_type": "code",
      "source": [
        "for i in range(5):\n",
        "  print(primes[i])"
      ],
      "metadata": {
        "colab": {
          "base_uri": "https://localhost:8080/"
        },
        "id": "0-z2NOmjWbDA",
        "outputId": "c08c04df-3afe-4810-a8a8-585125715226"
      },
      "execution_count": 67,
      "outputs": [
        {
          "output_type": "stream",
          "name": "stdout",
          "text": [
            "1\n",
            "3\n",
            "5\n",
            "7\n",
            "11\n"
          ]
        }
      ]
    },
    {
      "cell_type": "markdown",
      "source": [
        "### Using the enumerate function"
      ],
      "metadata": {
        "id": "YMTos-KIWb9F"
      }
    },
    {
      "cell_type": "code",
      "source": [
        "for i, number in enumerate(primes):\n",
        "  print(i, number)"
      ],
      "metadata": {
        "colab": {
          "base_uri": "https://localhost:8080/"
        },
        "id": "AvsmHPehV7ad",
        "outputId": "23d24095-a6d3-4806-bd3c-47eb622f0ce8"
      },
      "execution_count": 68,
      "outputs": [
        {
          "output_type": "stream",
          "name": "stdout",
          "text": [
            "0 1\n",
            "1 3\n",
            "2 5\n",
            "3 7\n",
            "4 11\n"
          ]
        }
      ]
    },
    {
      "cell_type": "markdown",
      "source": [
        "### While loop"
      ],
      "metadata": {
        "id": "JID0mOAKWf1A"
      }
    },
    {
      "cell_type": "code",
      "source": [
        "counter = 0\n",
        "\n",
        "while counter < 5:\n",
        "  counter += 1\n",
        "  print(counter)"
      ],
      "metadata": {
        "colab": {
          "base_uri": "https://localhost:8080/"
        },
        "id": "8eL26eqvWeK_",
        "outputId": "bd245acc-23ca-4ed3-e336-597690287953"
      },
      "execution_count": 69,
      "outputs": [
        {
          "output_type": "stream",
          "name": "stdout",
          "text": [
            "1\n",
            "2\n",
            "3\n",
            "4\n",
            "5\n"
          ]
        }
      ]
    },
    {
      "cell_type": "markdown",
      "source": [
        "### If Elif Else"
      ],
      "metadata": {
        "id": "Mi1crrquXImI"
      }
    },
    {
      "cell_type": "code",
      "source": [
        "day = \"Monday\"\n",
        "\n",
        "if day == \"Sunday\":\n",
        "  print(\"Sunday\")\n",
        "elif day == \"Saturday\":\n",
        "  print(\"Saturday\")\n",
        "else:\n",
        "  print(\"Weekday\")"
      ],
      "metadata": {
        "colab": {
          "base_uri": "https://localhost:8080/"
        },
        "id": "HjoM-SEXXEDB",
        "outputId": "d1fe2d59-3696-4e35-d393-9e57b9a82208"
      },
      "execution_count": 70,
      "outputs": [
        {
          "output_type": "stream",
          "name": "stdout",
          "text": [
            "Weekday\n"
          ]
        }
      ]
    },
    {
      "cell_type": "markdown",
      "source": [
        "## Functions"
      ],
      "metadata": {
        "id": "kyZnc1xEXQ2Q"
      }
    },
    {
      "cell_type": "code",
      "source": [
        "def add(num_1, num_2):\n",
        "  num_sum = num_1 + num_2\n",
        "  return num_sum\n",
        "\n",
        "total = add(5, 11)\n",
        "print(total)"
      ],
      "metadata": {
        "colab": {
          "base_uri": "https://localhost:8080/"
        },
        "id": "i0FSOr96XNEt",
        "outputId": "dc562de9-465f-4642-c05e-81db48a11fc4"
      },
      "execution_count": 71,
      "outputs": [
        {
          "output_type": "stream",
          "name": "stdout",
          "text": [
            "16\n"
          ]
        }
      ]
    },
    {
      "cell_type": "code",
      "source": [
        "# with type hinting\n",
        "def add(num_1: int, num_2: int) -> int:\n",
        "  num_sum = num_1 + num_2\n",
        "  return num_sum"
      ],
      "metadata": {
        "id": "GhJphpXTj-Zc"
      },
      "execution_count": 72,
      "outputs": []
    },
    {
      "cell_type": "code",
      "source": [
        "def add(num_1, num_2 = 7):\n",
        "  num_sum = num_1 + num_2\n",
        "  return num_sum"
      ],
      "metadata": {
        "id": "1DbsaofTkDdB"
      },
      "execution_count": 75,
      "outputs": []
    },
    {
      "cell_type": "code",
      "source": [
        "add(6)"
      ],
      "metadata": {
        "colab": {
          "base_uri": "https://localhost:8080/"
        },
        "id": "AfoxISrmkYfd",
        "outputId": "661e80aa-ce62-4e9a-e3e1-5cbd43cbd330"
      },
      "execution_count": 78,
      "outputs": [
        {
          "output_type": "execute_result",
          "data": {
            "text/plain": [
              "13"
            ]
          },
          "metadata": {},
          "execution_count": 78
        }
      ]
    },
    {
      "cell_type": "code",
      "source": [
        "add(8, 8)"
      ],
      "metadata": {
        "colab": {
          "base_uri": "https://localhost:8080/"
        },
        "id": "ylDbdDwrkcCe",
        "outputId": "1447e2d0-b730-41ec-ce19-cad5e76de746"
      },
      "execution_count": 80,
      "outputs": [
        {
          "output_type": "execute_result",
          "data": {
            "text/plain": [
              "16"
            ]
          },
          "metadata": {},
          "execution_count": 80
        }
      ]
    },
    {
      "cell_type": "code",
      "source": [
        "add = lambda num_1, num_2 : num_1 + num_2\n",
        "add(5, 11)"
      ],
      "metadata": {
        "colab": {
          "base_uri": "https://localhost:8080/"
        },
        "id": "cQZe6xeZXfHf",
        "outputId": "cb1ec97f-e31c-4c98-ea6d-3b4fb412affb"
      },
      "execution_count": 85,
      "outputs": [
        {
          "output_type": "execute_result",
          "data": {
            "text/plain": [
              "16"
            ]
          },
          "metadata": {},
          "execution_count": 85
        }
      ]
    },
    {
      "cell_type": "markdown",
      "source": [
        "## Classes"
      ],
      "metadata": {
        "id": "m5XSaYj6aOIq"
      }
    },
    {
      "cell_type": "code",
      "source": [
        "class Person:\n",
        "  def __init__(self, name, age):\n",
        "    self.name = name\n",
        "    self.age = age\n",
        "\n",
        "  def say_name(self):\n",
        "    print(self.name)\n",
        "\n",
        "person = Person(\"John\", 22)\n",
        "person.say_name()"
      ],
      "metadata": {
        "id": "m8ywCO3fYICq",
        "colab": {
          "base_uri": "https://localhost:8080/"
        },
        "outputId": "adc29ce1-1215-4423-95d8-61cd9429d48b"
      },
      "execution_count": 94,
      "outputs": [
        {
          "output_type": "stream",
          "name": "stdout",
          "text": [
            "John\n"
          ]
        }
      ]
    },
    {
      "cell_type": "code",
      "source": [
        "print(person)"
      ],
      "metadata": {
        "colab": {
          "base_uri": "https://localhost:8080/"
        },
        "id": "oCe1kxEKZLO4",
        "outputId": "bd9ff8e8-ce34-4010-af45-f5545c017bf1"
      },
      "execution_count": 95,
      "outputs": [
        {
          "output_type": "stream",
          "name": "stdout",
          "text": [
            "<__main__.Person object at 0x7f1cf3827990>\n"
          ]
        }
      ]
    },
    {
      "cell_type": "code",
      "source": [
        "from dataclasses import dataclass\n",
        "\n",
        "@dataclass\n",
        "class Person:\n",
        "  name : str\n",
        "  age: int\n",
        "\n",
        "  # __init__ method is done in the background!\n",
        "\n",
        "  def say_name(self):\n",
        "    return self.name\n",
        "\n",
        "person = Person(\"John\", 22)\n",
        "person.say_name()"
      ],
      "metadata": {
        "colab": {
          "base_uri": "https://localhost:8080/",
          "height": 36
        },
        "id": "lgc7kay3aNJo",
        "outputId": "2266a7fc-b238-4b49-b205-70714a9100f9"
      },
      "execution_count": 98,
      "outputs": [
        {
          "output_type": "execute_result",
          "data": {
            "text/plain": [
              "'John'"
            ],
            "application/vnd.google.colaboratory.intrinsic+json": {
              "type": "string"
            }
          },
          "metadata": {},
          "execution_count": 98
        }
      ]
    },
    {
      "cell_type": "code",
      "source": [
        "print(person)"
      ],
      "metadata": {
        "colab": {
          "base_uri": "https://localhost:8080/"
        },
        "id": "4o7rBxq8ZG1M",
        "outputId": "fc5b510e-84fc-4fdd-e98f-369fd4f67a71"
      },
      "execution_count": 99,
      "outputs": [
        {
          "output_type": "stream",
          "name": "stdout",
          "text": [
            "Person(name='John', age=22)\n"
          ]
        }
      ]
    },
    {
      "cell_type": "markdown",
      "source": [
        "## Time to test your knowledge!"
      ],
      "metadata": {
        "id": "OV_2MMXAaUpl"
      }
    },
    {
      "cell_type": "markdown",
      "source": [
        "### Question 1 - Functions\n"
      ],
      "metadata": {
        "id": "0mkt5rdQnQOW"
      }
    },
    {
      "cell_type": "markdown",
      "source": [
        "You're a home decorator, and you'd like to use Python to streamline some of your work.  Specifically, you're creating a tool that you intend to use to calculate the cost of painting a room.\n",
        "\n",
        "As a first step, define a function `get_cost()` that takes as input:\n",
        "- `sqft_walls` = total square feet of walls to be painted\n",
        "- `sqft_ceiling` = square feet of ceiling to be painted\n",
        "- `sqft_per_gallon` = number of square feet that you can cover with one gallon of paint\n",
        "- `cost_per_gallon` = cost (in dollars) of one gallon of paint\n",
        "\n",
        "It should return the cost (in dollars) of putting one coat of paint on all walls and the ceiling."
      ],
      "metadata": {
        "id": "u05zhlzpr228"
      }
    },
    {
      "cell_type": "code",
      "source": [
        "# get_cost(50, 50, 10, 5)"
      ],
      "metadata": {
        "id": "M86h31p2n53j"
      },
      "execution_count": 105,
      "outputs": []
    },
    {
      "cell_type": "markdown",
      "source": [
        "### Question 2 - Conditionals\n"
      ],
      "metadata": {
        "id": "15ImCWYYoj_U"
      }
    },
    {
      "cell_type": "markdown",
      "source": [
        "You work at a college admissions office.  When inspecting a dataset of college applicants, you notice that some students have represented their grades with letters (`\"A\"`, `\"B\"`, `\"C\"`, `\"D\"`, `\"F\"`), whereas others have represented their grades with a number between 0 and 100.\n",
        "\n",
        "You realize that for consistency, all of the grades should be formatted in the same way, and you decide to format them all as letters.  For the conversion, you decide to assign:\n",
        "- `\"A\"` - any grade 90-100, inclusive\n",
        "- `\"B\"` - any grade 80-89, inclusive\n",
        "- `\"C\"` - any grade 70-79, inclusive\n",
        "- `\"D\"` - any grade 60-69, inclusive\n",
        "- `\"F\"` - any grade <60\n",
        "\n",
        "Write a function `get_grade()` that takes as input:\n",
        "- `score` - an integer 0-100 corresponding to a numerical grade"
      ],
      "metadata": {
        "id": "WZQZl38NrxPs"
      }
    },
    {
      "cell_type": "code",
      "source": [
        "# get_grade(100)"
      ],
      "metadata": {
        "id": "lMsNm_DHpTqq"
      },
      "execution_count": 112,
      "outputs": []
    },
    {
      "cell_type": "code",
      "source": [
        "# get_grade(75)"
      ],
      "metadata": {
        "id": "7eAWSljIpdT9"
      },
      "execution_count": 113,
      "outputs": []
    },
    {
      "cell_type": "markdown",
      "source": [
        "### Question 3 - Lists"
      ],
      "metadata": {
        "id": "mYY-iDuqpslS"
      }
    },
    {
      "cell_type": "markdown",
      "source": [
        "The list `num_customers` contains the number of customers who came into your restaurant every day over the last month (which lasted thirty days).  Fill in values for each of the following:\n",
        "- `avg_first_seven` - average number of customers who visited in the first seven days\n",
        "- `avg_last_seven` - average number of customers who visited in the last seven days\n",
        "- `max_month` - number of customers on the day that got the most customers in the last month\n",
        "- `min_month` - number of customers on the day that got the least customers in the last month\n",
        "\n",
        "Answer this question by writing code.  For instance, if you have to find the minimum value in a list, use `min()` instead of scanning for the smallest value and directly filling in a number."
      ],
      "metadata": {
        "id": "CGTaGh0cpugp"
      }
    },
    {
      "cell_type": "code",
      "source": [
        "# Do not change: Number of customers each day for the last month\n",
        "num_customers = [137, 147, 135, 128, 170, 174, 165, 146, 126, 159,\n",
        "                 141, 148, 132, 147, 168, 153, 170, 161, 148, 152,\n",
        "                 141, 151, 131, 149, 164, 163, 143, 143, 166, 171]"
      ],
      "metadata": {
        "id": "ooIqYtuHp8hQ"
      },
      "execution_count": 114,
      "outputs": []
    },
    {
      "cell_type": "code",
      "source": [
        "# TODO: Fill in values for the variables below\n",
        "# avg_first_seven = \n",
        "# print(avg_first_seven)"
      ],
      "metadata": {
        "id": "mIAfwytxp9v2"
      },
      "execution_count": 146,
      "outputs": []
    },
    {
      "cell_type": "code",
      "source": [
        "# avg_last_seven = \n",
        "# print(avg_last_seven)"
      ],
      "metadata": {
        "id": "ZcngTBckrQcC"
      },
      "execution_count": 147,
      "outputs": []
    },
    {
      "cell_type": "code",
      "source": [
        "# max_month = \n",
        "# print(max_month)"
      ],
      "metadata": {
        "id": "8ul6Tnusp_19"
      },
      "execution_count": 148,
      "outputs": []
    },
    {
      "cell_type": "code",
      "source": [
        "# min_month = \n",
        "# print(min_month)"
      ],
      "metadata": {
        "id": "FnjOzPpbp_nY"
      },
      "execution_count": 149,
      "outputs": []
    },
    {
      "cell_type": "markdown",
      "source": [
        "## What's next?\n",
        "\n",
        "- Kaggle course: https://www.kaggle.com/learn/python\n",
        "- Python roadmap: https://roadmap.sh/python\n",
        "- Python style guide: https://peps.python.org/pep-0008/\n",
        "\n",
        "\n",
        "## Next session on Wednesday, 26th of October \n",
        "- Basic Machine Learning concepts\n",
        "\n",
        "## Future sessions\t\n",
        "- Data analysis with Pandas\n",
        "- Intermediate machine learning"
      ],
      "metadata": {
        "id": "kAAO7wotpEKV"
      }
    }
  ]
}