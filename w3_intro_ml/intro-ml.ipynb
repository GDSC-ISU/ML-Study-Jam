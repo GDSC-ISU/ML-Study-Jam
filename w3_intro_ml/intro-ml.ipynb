{
  "nbformat": 4,
  "nbformat_minor": 0,
  "metadata": {
    "colab": {
      "provenance": [],
      "collapsed_sections": []
    },
    "kernelspec": {
      "name": "python3",
      "display_name": "Python 3"
    },
    "language_info": {
      "name": "python"
    }
  },
  "cells": [
    {
      "cell_type": "markdown",
      "source": [
        "## Facilitator\n",
        "\n",
        "Ali Haider - Technical Lead - GDSC Iowa State University\n",
        "\n",
        "### Links\n",
        "\n",
        "- LinkedIn: https://www.linkedin.com/in/m-ali-haider/\n",
        "- Email: mhaider@iastate.edu\n",
        "- Github: https://github.com/allihaider\n",
        "- Medium: https://medium.com/@m.allihaider\n",
        "\n",
        "\n",
        "---\n",
        "\n",
        "## Topics\n",
        "1. Machine Learning Models\n",
        "2. Data Exploration\n",
        "3. Data Preprocessing\n",
        "4. Training\n",
        "5. Testing\n",
        "6. Underfitting and Overfitting\n"
      ],
      "metadata": {
        "id": "QOub6OyLHLHq"
      }
    },
    {
      "cell_type": "markdown",
      "source": [
        "## Machine Learning Models\n"
      ],
      "metadata": {
        "id": "Av69wP-KHb2P"
      }
    },
    {
      "cell_type": "markdown",
      "source": [
        "* Your cousin has made millions of dollars speculating on real estate\n",
        "* Why is he been so successful?\n",
        "* He has identified price patterns from houses he has seen in the past\n",
        "* Machine learning models do the same\n",
        "* We use data to teach these patterns to our machine learning models \n",
        "* After the model has been trained, you can apply it to new data to make predictions"
      ],
      "metadata": {
        "id": "Q2iUu_-hrzjz"
      }
    },
    {
      "cell_type": "markdown",
      "source": [
        "### Decision Trees"
      ],
      "metadata": {
        "id": "xe_Vyyzn45yh"
      }
    },
    {
      "cell_type": "markdown",
      "source": [
        "Source: https://elf11.github.io/2018/07/01/python-decision-trees-acm.html"
      ],
      "metadata": {
        "id": "wHEEZyZD5wNv"
      }
    },
    {
      "cell_type": "markdown",
      "source": [
        "![decisionTree.png](data:image/png;base64,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)"
      ],
      "metadata": {
        "id": "Jsri4u8kuK6P"
      }
    },
    {
      "cell_type": "markdown",
      "source": [
        "## Data Exploration"
      ],
      "metadata": {
        "id": "l47qMiT831ZP"
      }
    },
    {
      "cell_type": "markdown",
      "source": [
        "Dataset link: https://www.kaggle.com/datasets/dansbecker/melbourne-housing-snapshot"
      ],
      "metadata": {
        "id": "oOuAS4PIvH0D"
      }
    },
    {
      "cell_type": "code",
      "source": [
        "import pandas as pd"
      ],
      "metadata": {
        "id": "yJYsIwFyvmIp"
      },
      "execution_count": null,
      "outputs": []
    },
    {
      "cell_type": "code",
      "source": [
        "df = pd.read_csv(\"melb_data.csv\")"
      ],
      "metadata": {
        "id": "4ogLVh21vrYc"
      },
      "execution_count": null,
      "outputs": []
    },
    {
      "cell_type": "code",
      "source": [
        "df"
      ],
      "metadata": {
        "colab": {
          "base_uri": "https://localhost:8080/",
          "height": 713
        },
        "id": "-CzTEHkxvZsq",
        "outputId": "102851df-a1a2-4cb2-8bfc-dbc7e908f1ca"
      },
      "execution_count": null,
      "outputs": [
        {
          "output_type": "execute_result",
          "data": {
            "text/plain": [
              "              Suburb           Address  Rooms Type      Price Method  \\\n",
              "0         Abbotsford      85 Turner St      2    h  1480000.0      S   \n",
              "1         Abbotsford   25 Bloomburg St      2    h  1035000.0      S   \n",
              "2         Abbotsford      5 Charles St      3    h  1465000.0     SP   \n",
              "3         Abbotsford  40 Federation La      3    h   850000.0     PI   \n",
              "4         Abbotsford       55a Park St      4    h  1600000.0     VB   \n",
              "...              ...               ...    ...  ...        ...    ...   \n",
              "13575  Wheelers Hill      12 Strada Cr      4    h  1245000.0      S   \n",
              "13576   Williamstown     77 Merrett Dr      3    h  1031000.0     SP   \n",
              "13577   Williamstown       83 Power St      3    h  1170000.0      S   \n",
              "13578   Williamstown      96 Verdon St      4    h  2500000.0     PI   \n",
              "13579     Yarraville        6 Agnes St      4    h  1285000.0     SP   \n",
              "\n",
              "        SellerG        Date  Distance  Postcode  ...  Bathroom  Car  Landsize  \\\n",
              "0        Biggin   3/12/2016       2.5    3067.0  ...       1.0  1.0     202.0   \n",
              "1        Biggin   4/02/2016       2.5    3067.0  ...       1.0  0.0     156.0   \n",
              "2        Biggin   4/03/2017       2.5    3067.0  ...       2.0  0.0     134.0   \n",
              "3        Biggin   4/03/2017       2.5    3067.0  ...       2.0  1.0      94.0   \n",
              "4        Nelson   4/06/2016       2.5    3067.0  ...       1.0  2.0     120.0   \n",
              "...         ...         ...       ...       ...  ...       ...  ...       ...   \n",
              "13575     Barry  26/08/2017      16.7    3150.0  ...       2.0  2.0     652.0   \n",
              "13576  Williams  26/08/2017       6.8    3016.0  ...       2.0  2.0     333.0   \n",
              "13577     Raine  26/08/2017       6.8    3016.0  ...       2.0  4.0     436.0   \n",
              "13578   Sweeney  26/08/2017       6.8    3016.0  ...       1.0  5.0     866.0   \n",
              "13579   Village  26/08/2017       6.3    3013.0  ...       1.0  1.0     362.0   \n",
              "\n",
              "       BuildingArea  YearBuilt  CouncilArea Lattitude  Longtitude  \\\n",
              "0               NaN        NaN        Yarra -37.79960   144.99840   \n",
              "1              79.0     1900.0        Yarra -37.80790   144.99340   \n",
              "2             150.0     1900.0        Yarra -37.80930   144.99440   \n",
              "3               NaN        NaN        Yarra -37.79690   144.99690   \n",
              "4             142.0     2014.0        Yarra -37.80720   144.99410   \n",
              "...             ...        ...          ...       ...         ...   \n",
              "13575           NaN     1981.0          NaN -37.90562   145.16761   \n",
              "13576         133.0     1995.0          NaN -37.85927   144.87904   \n",
              "13577           NaN     1997.0          NaN -37.85274   144.88738   \n",
              "13578         157.0     1920.0          NaN -37.85908   144.89299   \n",
              "13579         112.0     1920.0          NaN -37.81188   144.88449   \n",
              "\n",
              "                       Regionname Propertycount  \n",
              "0           Northern Metropolitan        4019.0  \n",
              "1           Northern Metropolitan        4019.0  \n",
              "2           Northern Metropolitan        4019.0  \n",
              "3           Northern Metropolitan        4019.0  \n",
              "4           Northern Metropolitan        4019.0  \n",
              "...                           ...           ...  \n",
              "13575  South-Eastern Metropolitan        7392.0  \n",
              "13576        Western Metropolitan        6380.0  \n",
              "13577        Western Metropolitan        6380.0  \n",
              "13578        Western Metropolitan        6380.0  \n",
              "13579        Western Metropolitan        6543.0  \n",
              "\n",
              "[13580 rows x 21 columns]"
            ],
            "text/html": [
              "\n",
              "  <div id=\"df-538c88d2-142b-455e-8cc3-892f6611d33e\">\n",
              "    <div class=\"colab-df-container\">\n",
              "      <div>\n",
              "<style scoped>\n",
              "    .dataframe tbody tr th:only-of-type {\n",
              "        vertical-align: middle;\n",
              "    }\n",
              "\n",
              "    .dataframe tbody tr th {\n",
              "        vertical-align: top;\n",
              "    }\n",
              "\n",
              "    .dataframe thead th {\n",
              "        text-align: right;\n",
              "    }\n",
              "</style>\n",
              "<table border=\"1\" class=\"dataframe\">\n",
              "  <thead>\n",
              "    <tr style=\"text-align: right;\">\n",
              "      <th></th>\n",
              "      <th>Suburb</th>\n",
              "      <th>Address</th>\n",
              "      <th>Rooms</th>\n",
              "      <th>Type</th>\n",
              "      <th>Price</th>\n",
              "      <th>Method</th>\n",
              "      <th>SellerG</th>\n",
              "      <th>Date</th>\n",
              "      <th>Distance</th>\n",
              "      <th>Postcode</th>\n",
              "      <th>...</th>\n",
              "      <th>Bathroom</th>\n",
              "      <th>Car</th>\n",
              "      <th>Landsize</th>\n",
              "      <th>BuildingArea</th>\n",
              "      <th>YearBuilt</th>\n",
              "      <th>CouncilArea</th>\n",
              "      <th>Lattitude</th>\n",
              "      <th>Longtitude</th>\n",
              "      <th>Regionname</th>\n",
              "      <th>Propertycount</th>\n",
              "    </tr>\n",
              "  </thead>\n",
              "  <tbody>\n",
              "    <tr>\n",
              "      <th>0</th>\n",
              "      <td>Abbotsford</td>\n",
              "      <td>85 Turner St</td>\n",
              "      <td>2</td>\n",
              "      <td>h</td>\n",
              "      <td>1480000.0</td>\n",
              "      <td>S</td>\n",
              "      <td>Biggin</td>\n",
              "      <td>3/12/2016</td>\n",
              "      <td>2.5</td>\n",
              "      <td>3067.0</td>\n",
              "      <td>...</td>\n",
              "      <td>1.0</td>\n",
              "      <td>1.0</td>\n",
              "      <td>202.0</td>\n",
              "      <td>NaN</td>\n",
              "      <td>NaN</td>\n",
              "      <td>Yarra</td>\n",
              "      <td>-37.79960</td>\n",
              "      <td>144.99840</td>\n",
              "      <td>Northern Metropolitan</td>\n",
              "      <td>4019.0</td>\n",
              "    </tr>\n",
              "    <tr>\n",
              "      <th>1</th>\n",
              "      <td>Abbotsford</td>\n",
              "      <td>25 Bloomburg St</td>\n",
              "      <td>2</td>\n",
              "      <td>h</td>\n",
              "      <td>1035000.0</td>\n",
              "      <td>S</td>\n",
              "      <td>Biggin</td>\n",
              "      <td>4/02/2016</td>\n",
              "      <td>2.5</td>\n",
              "      <td>3067.0</td>\n",
              "      <td>...</td>\n",
              "      <td>1.0</td>\n",
              "      <td>0.0</td>\n",
              "      <td>156.0</td>\n",
              "      <td>79.0</td>\n",
              "      <td>1900.0</td>\n",
              "      <td>Yarra</td>\n",
              "      <td>-37.80790</td>\n",
              "      <td>144.99340</td>\n",
              "      <td>Northern Metropolitan</td>\n",
              "      <td>4019.0</td>\n",
              "    </tr>\n",
              "    <tr>\n",
              "      <th>2</th>\n",
              "      <td>Abbotsford</td>\n",
              "      <td>5 Charles St</td>\n",
              "      <td>3</td>\n",
              "      <td>h</td>\n",
              "      <td>1465000.0</td>\n",
              "      <td>SP</td>\n",
              "      <td>Biggin</td>\n",
              "      <td>4/03/2017</td>\n",
              "      <td>2.5</td>\n",
              "      <td>3067.0</td>\n",
              "      <td>...</td>\n",
              "      <td>2.0</td>\n",
              "      <td>0.0</td>\n",
              "      <td>134.0</td>\n",
              "      <td>150.0</td>\n",
              "      <td>1900.0</td>\n",
              "      <td>Yarra</td>\n",
              "      <td>-37.80930</td>\n",
              "      <td>144.99440</td>\n",
              "      <td>Northern Metropolitan</td>\n",
              "      <td>4019.0</td>\n",
              "    </tr>\n",
              "    <tr>\n",
              "      <th>3</th>\n",
              "      <td>Abbotsford</td>\n",
              "      <td>40 Federation La</td>\n",
              "      <td>3</td>\n",
              "      <td>h</td>\n",
              "      <td>850000.0</td>\n",
              "      <td>PI</td>\n",
              "      <td>Biggin</td>\n",
              "      <td>4/03/2017</td>\n",
              "      <td>2.5</td>\n",
              "      <td>3067.0</td>\n",
              "      <td>...</td>\n",
              "      <td>2.0</td>\n",
              "      <td>1.0</td>\n",
              "      <td>94.0</td>\n",
              "      <td>NaN</td>\n",
              "      <td>NaN</td>\n",
              "      <td>Yarra</td>\n",
              "      <td>-37.79690</td>\n",
              "      <td>144.99690</td>\n",
              "      <td>Northern Metropolitan</td>\n",
              "      <td>4019.0</td>\n",
              "    </tr>\n",
              "    <tr>\n",
              "      <th>4</th>\n",
              "      <td>Abbotsford</td>\n",
              "      <td>55a Park St</td>\n",
              "      <td>4</td>\n",
              "      <td>h</td>\n",
              "      <td>1600000.0</td>\n",
              "      <td>VB</td>\n",
              "      <td>Nelson</td>\n",
              "      <td>4/06/2016</td>\n",
              "      <td>2.5</td>\n",
              "      <td>3067.0</td>\n",
              "      <td>...</td>\n",
              "      <td>1.0</td>\n",
              "      <td>2.0</td>\n",
              "      <td>120.0</td>\n",
              "      <td>142.0</td>\n",
              "      <td>2014.0</td>\n",
              "      <td>Yarra</td>\n",
              "      <td>-37.80720</td>\n",
              "      <td>144.99410</td>\n",
              "      <td>Northern Metropolitan</td>\n",
              "      <td>4019.0</td>\n",
              "    </tr>\n",
              "    <tr>\n",
              "      <th>...</th>\n",
              "      <td>...</td>\n",
              "      <td>...</td>\n",
              "      <td>...</td>\n",
              "      <td>...</td>\n",
              "      <td>...</td>\n",
              "      <td>...</td>\n",
              "      <td>...</td>\n",
              "      <td>...</td>\n",
              "      <td>...</td>\n",
              "      <td>...</td>\n",
              "      <td>...</td>\n",
              "      <td>...</td>\n",
              "      <td>...</td>\n",
              "      <td>...</td>\n",
              "      <td>...</td>\n",
              "      <td>...</td>\n",
              "      <td>...</td>\n",
              "      <td>...</td>\n",
              "      <td>...</td>\n",
              "      <td>...</td>\n",
              "      <td>...</td>\n",
              "    </tr>\n",
              "    <tr>\n",
              "      <th>13575</th>\n",
              "      <td>Wheelers Hill</td>\n",
              "      <td>12 Strada Cr</td>\n",
              "      <td>4</td>\n",
              "      <td>h</td>\n",
              "      <td>1245000.0</td>\n",
              "      <td>S</td>\n",
              "      <td>Barry</td>\n",
              "      <td>26/08/2017</td>\n",
              "      <td>16.7</td>\n",
              "      <td>3150.0</td>\n",
              "      <td>...</td>\n",
              "      <td>2.0</td>\n",
              "      <td>2.0</td>\n",
              "      <td>652.0</td>\n",
              "      <td>NaN</td>\n",
              "      <td>1981.0</td>\n",
              "      <td>NaN</td>\n",
              "      <td>-37.90562</td>\n",
              "      <td>145.16761</td>\n",
              "      <td>South-Eastern Metropolitan</td>\n",
              "      <td>7392.0</td>\n",
              "    </tr>\n",
              "    <tr>\n",
              "      <th>13576</th>\n",
              "      <td>Williamstown</td>\n",
              "      <td>77 Merrett Dr</td>\n",
              "      <td>3</td>\n",
              "      <td>h</td>\n",
              "      <td>1031000.0</td>\n",
              "      <td>SP</td>\n",
              "      <td>Williams</td>\n",
              "      <td>26/08/2017</td>\n",
              "      <td>6.8</td>\n",
              "      <td>3016.0</td>\n",
              "      <td>...</td>\n",
              "      <td>2.0</td>\n",
              "      <td>2.0</td>\n",
              "      <td>333.0</td>\n",
              "      <td>133.0</td>\n",
              "      <td>1995.0</td>\n",
              "      <td>NaN</td>\n",
              "      <td>-37.85927</td>\n",
              "      <td>144.87904</td>\n",
              "      <td>Western Metropolitan</td>\n",
              "      <td>6380.0</td>\n",
              "    </tr>\n",
              "    <tr>\n",
              "      <th>13577</th>\n",
              "      <td>Williamstown</td>\n",
              "      <td>83 Power St</td>\n",
              "      <td>3</td>\n",
              "      <td>h</td>\n",
              "      <td>1170000.0</td>\n",
              "      <td>S</td>\n",
              "      <td>Raine</td>\n",
              "      <td>26/08/2017</td>\n",
              "      <td>6.8</td>\n",
              "      <td>3016.0</td>\n",
              "      <td>...</td>\n",
              "      <td>2.0</td>\n",
              "      <td>4.0</td>\n",
              "      <td>436.0</td>\n",
              "      <td>NaN</td>\n",
              "      <td>1997.0</td>\n",
              "      <td>NaN</td>\n",
              "      <td>-37.85274</td>\n",
              "      <td>144.88738</td>\n",
              "      <td>Western Metropolitan</td>\n",
              "      <td>6380.0</td>\n",
              "    </tr>\n",
              "    <tr>\n",
              "      <th>13578</th>\n",
              "      <td>Williamstown</td>\n",
              "      <td>96 Verdon St</td>\n",
              "      <td>4</td>\n",
              "      <td>h</td>\n",
              "      <td>2500000.0</td>\n",
              "      <td>PI</td>\n",
              "      <td>Sweeney</td>\n",
              "      <td>26/08/2017</td>\n",
              "      <td>6.8</td>\n",
              "      <td>3016.0</td>\n",
              "      <td>...</td>\n",
              "      <td>1.0</td>\n",
              "      <td>5.0</td>\n",
              "      <td>866.0</td>\n",
              "      <td>157.0</td>\n",
              "      <td>1920.0</td>\n",
              "      <td>NaN</td>\n",
              "      <td>-37.85908</td>\n",
              "      <td>144.89299</td>\n",
              "      <td>Western Metropolitan</td>\n",
              "      <td>6380.0</td>\n",
              "    </tr>\n",
              "    <tr>\n",
              "      <th>13579</th>\n",
              "      <td>Yarraville</td>\n",
              "      <td>6 Agnes St</td>\n",
              "      <td>4</td>\n",
              "      <td>h</td>\n",
              "      <td>1285000.0</td>\n",
              "      <td>SP</td>\n",
              "      <td>Village</td>\n",
              "      <td>26/08/2017</td>\n",
              "      <td>6.3</td>\n",
              "      <td>3013.0</td>\n",
              "      <td>...</td>\n",
              "      <td>1.0</td>\n",
              "      <td>1.0</td>\n",
              "      <td>362.0</td>\n",
              "      <td>112.0</td>\n",
              "      <td>1920.0</td>\n",
              "      <td>NaN</td>\n",
              "      <td>-37.81188</td>\n",
              "      <td>144.88449</td>\n",
              "      <td>Western Metropolitan</td>\n",
              "      <td>6543.0</td>\n",
              "    </tr>\n",
              "  </tbody>\n",
              "</table>\n",
              "<p>13580 rows × 21 columns</p>\n",
              "</div>\n",
              "      <button class=\"colab-df-convert\" onclick=\"convertToInteractive('df-538c88d2-142b-455e-8cc3-892f6611d33e')\"\n",
              "              title=\"Convert this dataframe to an interactive table.\"\n",
              "              style=\"display:none;\">\n",
              "        \n",
              "  <svg xmlns=\"http://www.w3.org/2000/svg\" height=\"24px\"viewBox=\"0 0 24 24\"\n",
              "       width=\"24px\">\n",
              "    <path d=\"M0 0h24v24H0V0z\" fill=\"none\"/>\n",
              "    <path d=\"M18.56 5.44l.94 2.06.94-2.06 2.06-.94-2.06-.94-.94-2.06-.94 2.06-2.06.94zm-11 1L8.5 8.5l.94-2.06 2.06-.94-2.06-.94L8.5 2.5l-.94 2.06-2.06.94zm10 10l.94 2.06.94-2.06 2.06-.94-2.06-.94-.94-2.06-.94 2.06-2.06.94z\"/><path d=\"M17.41 7.96l-1.37-1.37c-.4-.4-.92-.59-1.43-.59-.52 0-1.04.2-1.43.59L10.3 9.45l-7.72 7.72c-.78.78-.78 2.05 0 2.83L4 21.41c.39.39.9.59 1.41.59.51 0 1.02-.2 1.41-.59l7.78-7.78 2.81-2.81c.8-.78.8-2.07 0-2.86zM5.41 20L4 18.59l7.72-7.72 1.47 1.35L5.41 20z\"/>\n",
              "  </svg>\n",
              "      </button>\n",
              "      \n",
              "  <style>\n",
              "    .colab-df-container {\n",
              "      display:flex;\n",
              "      flex-wrap:wrap;\n",
              "      gap: 12px;\n",
              "    }\n",
              "\n",
              "    .colab-df-convert {\n",
              "      background-color: #E8F0FE;\n",
              "      border: none;\n",
              "      border-radius: 50%;\n",
              "      cursor: pointer;\n",
              "      display: none;\n",
              "      fill: #1967D2;\n",
              "      height: 32px;\n",
              "      padding: 0 0 0 0;\n",
              "      width: 32px;\n",
              "    }\n",
              "\n",
              "    .colab-df-convert:hover {\n",
              "      background-color: #E2EBFA;\n",
              "      box-shadow: 0px 1px 2px rgba(60, 64, 67, 0.3), 0px 1px 3px 1px rgba(60, 64, 67, 0.15);\n",
              "      fill: #174EA6;\n",
              "    }\n",
              "\n",
              "    [theme=dark] .colab-df-convert {\n",
              "      background-color: #3B4455;\n",
              "      fill: #D2E3FC;\n",
              "    }\n",
              "\n",
              "    [theme=dark] .colab-df-convert:hover {\n",
              "      background-color: #434B5C;\n",
              "      box-shadow: 0px 1px 3px 1px rgba(0, 0, 0, 0.15);\n",
              "      filter: drop-shadow(0px 1px 2px rgba(0, 0, 0, 0.3));\n",
              "      fill: #FFFFFF;\n",
              "    }\n",
              "  </style>\n",
              "\n",
              "      <script>\n",
              "        const buttonEl =\n",
              "          document.querySelector('#df-538c88d2-142b-455e-8cc3-892f6611d33e button.colab-df-convert');\n",
              "        buttonEl.style.display =\n",
              "          google.colab.kernel.accessAllowed ? 'block' : 'none';\n",
              "\n",
              "        async function convertToInteractive(key) {\n",
              "          const element = document.querySelector('#df-538c88d2-142b-455e-8cc3-892f6611d33e');\n",
              "          const dataTable =\n",
              "            await google.colab.kernel.invokeFunction('convertToInteractive',\n",
              "                                                     [key], {});\n",
              "          if (!dataTable) return;\n",
              "\n",
              "          const docLinkHtml = 'Like what you see? Visit the ' +\n",
              "            '<a target=\"_blank\" href=https://colab.research.google.com/notebooks/data_table.ipynb>data table notebook</a>'\n",
              "            + ' to learn more about interactive tables.';\n",
              "          element.innerHTML = '';\n",
              "          dataTable['output_type'] = 'display_data';\n",
              "          await google.colab.output.renderOutput(dataTable, element);\n",
              "          const docLink = document.createElement('div');\n",
              "          docLink.innerHTML = docLinkHtml;\n",
              "          element.appendChild(docLink);\n",
              "        }\n",
              "      </script>\n",
              "    </div>\n",
              "  </div>\n",
              "  "
            ]
          },
          "metadata": {},
          "execution_count": 51
        }
      ]
    },
    {
      "cell_type": "code",
      "source": [
        "df.info()"
      ],
      "metadata": {
        "colab": {
          "base_uri": "https://localhost:8080/"
        },
        "id": "vFyjsQaiveHo",
        "outputId": "d0fae7ad-269e-455d-890e-a5d3238fee0d"
      },
      "execution_count": null,
      "outputs": [
        {
          "output_type": "stream",
          "name": "stdout",
          "text": [
            "<class 'pandas.core.frame.DataFrame'>\n",
            "RangeIndex: 13580 entries, 0 to 13579\n",
            "Data columns (total 21 columns):\n",
            " #   Column         Non-Null Count  Dtype  \n",
            "---  ------         --------------  -----  \n",
            " 0   Suburb         13580 non-null  object \n",
            " 1   Address        13580 non-null  object \n",
            " 2   Rooms          13580 non-null  int64  \n",
            " 3   Type           13580 non-null  object \n",
            " 4   Price          13580 non-null  float64\n",
            " 5   Method         13580 non-null  object \n",
            " 6   SellerG        13580 non-null  object \n",
            " 7   Date           13580 non-null  object \n",
            " 8   Distance       13580 non-null  float64\n",
            " 9   Postcode       13580 non-null  float64\n",
            " 10  Bedroom2       13580 non-null  float64\n",
            " 11  Bathroom       13580 non-null  float64\n",
            " 12  Car            13518 non-null  float64\n",
            " 13  Landsize       13580 non-null  float64\n",
            " 14  BuildingArea   7130 non-null   float64\n",
            " 15  YearBuilt      8205 non-null   float64\n",
            " 16  CouncilArea    12211 non-null  object \n",
            " 17  Lattitude      13580 non-null  float64\n",
            " 18  Longtitude     13580 non-null  float64\n",
            " 19  Regionname     13580 non-null  object \n",
            " 20  Propertycount  13580 non-null  float64\n",
            "dtypes: float64(12), int64(1), object(8)\n",
            "memory usage: 2.2+ MB\n"
          ]
        }
      ]
    },
    {
      "cell_type": "code",
      "source": [
        "df.describe()"
      ],
      "metadata": {
        "colab": {
          "base_uri": "https://localhost:8080/",
          "height": 364
        },
        "id": "bYRQ_KrdveFj",
        "outputId": "55e7b625-fb39-45d5-aa2b-dc9e193c4ac0"
      },
      "execution_count": null,
      "outputs": [
        {
          "output_type": "execute_result",
          "data": {
            "text/plain": [
              "              Rooms         Price      Distance      Postcode      Bedroom2  \\\n",
              "count  13580.000000  1.358000e+04  13580.000000  13580.000000  13580.000000   \n",
              "mean       2.937997  1.075684e+06     10.137776   3105.301915      2.914728   \n",
              "std        0.955748  6.393107e+05      5.868725     90.676964      0.965921   \n",
              "min        1.000000  8.500000e+04      0.000000   3000.000000      0.000000   \n",
              "25%        2.000000  6.500000e+05      6.100000   3044.000000      2.000000   \n",
              "50%        3.000000  9.030000e+05      9.200000   3084.000000      3.000000   \n",
              "75%        3.000000  1.330000e+06     13.000000   3148.000000      3.000000   \n",
              "max       10.000000  9.000000e+06     48.100000   3977.000000     20.000000   \n",
              "\n",
              "           Bathroom           Car       Landsize  BuildingArea    YearBuilt  \\\n",
              "count  13580.000000  13518.000000   13580.000000   7130.000000  8205.000000   \n",
              "mean       1.534242      1.610075     558.416127    151.967650  1964.684217   \n",
              "std        0.691712      0.962634    3990.669241    541.014538    37.273762   \n",
              "min        0.000000      0.000000       0.000000      0.000000  1196.000000   \n",
              "25%        1.000000      1.000000     177.000000     93.000000  1940.000000   \n",
              "50%        1.000000      2.000000     440.000000    126.000000  1970.000000   \n",
              "75%        2.000000      2.000000     651.000000    174.000000  1999.000000   \n",
              "max        8.000000     10.000000  433014.000000  44515.000000  2018.000000   \n",
              "\n",
              "          Lattitude    Longtitude  Propertycount  \n",
              "count  13580.000000  13580.000000   13580.000000  \n",
              "mean     -37.809203    144.995216    7454.417378  \n",
              "std        0.079260      0.103916    4378.581772  \n",
              "min      -38.182550    144.431810     249.000000  \n",
              "25%      -37.856822    144.929600    4380.000000  \n",
              "50%      -37.802355    145.000100    6555.000000  \n",
              "75%      -37.756400    145.058305   10331.000000  \n",
              "max      -37.408530    145.526350   21650.000000  "
            ],
            "text/html": [
              "\n",
              "  <div id=\"df-4ae72f5d-4ff5-4295-b65b-36306ba39e6e\">\n",
              "    <div class=\"colab-df-container\">\n",
              "      <div>\n",
              "<style scoped>\n",
              "    .dataframe tbody tr th:only-of-type {\n",
              "        vertical-align: middle;\n",
              "    }\n",
              "\n",
              "    .dataframe tbody tr th {\n",
              "        vertical-align: top;\n",
              "    }\n",
              "\n",
              "    .dataframe thead th {\n",
              "        text-align: right;\n",
              "    }\n",
              "</style>\n",
              "<table border=\"1\" class=\"dataframe\">\n",
              "  <thead>\n",
              "    <tr style=\"text-align: right;\">\n",
              "      <th></th>\n",
              "      <th>Rooms</th>\n",
              "      <th>Price</th>\n",
              "      <th>Distance</th>\n",
              "      <th>Postcode</th>\n",
              "      <th>Bedroom2</th>\n",
              "      <th>Bathroom</th>\n",
              "      <th>Car</th>\n",
              "      <th>Landsize</th>\n",
              "      <th>BuildingArea</th>\n",
              "      <th>YearBuilt</th>\n",
              "      <th>Lattitude</th>\n",
              "      <th>Longtitude</th>\n",
              "      <th>Propertycount</th>\n",
              "    </tr>\n",
              "  </thead>\n",
              "  <tbody>\n",
              "    <tr>\n",
              "      <th>count</th>\n",
              "      <td>13580.000000</td>\n",
              "      <td>1.358000e+04</td>\n",
              "      <td>13580.000000</td>\n",
              "      <td>13580.000000</td>\n",
              "      <td>13580.000000</td>\n",
              "      <td>13580.000000</td>\n",
              "      <td>13518.000000</td>\n",
              "      <td>13580.000000</td>\n",
              "      <td>7130.000000</td>\n",
              "      <td>8205.000000</td>\n",
              "      <td>13580.000000</td>\n",
              "      <td>13580.000000</td>\n",
              "      <td>13580.000000</td>\n",
              "    </tr>\n",
              "    <tr>\n",
              "      <th>mean</th>\n",
              "      <td>2.937997</td>\n",
              "      <td>1.075684e+06</td>\n",
              "      <td>10.137776</td>\n",
              "      <td>3105.301915</td>\n",
              "      <td>2.914728</td>\n",
              "      <td>1.534242</td>\n",
              "      <td>1.610075</td>\n",
              "      <td>558.416127</td>\n",
              "      <td>151.967650</td>\n",
              "      <td>1964.684217</td>\n",
              "      <td>-37.809203</td>\n",
              "      <td>144.995216</td>\n",
              "      <td>7454.417378</td>\n",
              "    </tr>\n",
              "    <tr>\n",
              "      <th>std</th>\n",
              "      <td>0.955748</td>\n",
              "      <td>6.393107e+05</td>\n",
              "      <td>5.868725</td>\n",
              "      <td>90.676964</td>\n",
              "      <td>0.965921</td>\n",
              "      <td>0.691712</td>\n",
              "      <td>0.962634</td>\n",
              "      <td>3990.669241</td>\n",
              "      <td>541.014538</td>\n",
              "      <td>37.273762</td>\n",
              "      <td>0.079260</td>\n",
              "      <td>0.103916</td>\n",
              "      <td>4378.581772</td>\n",
              "    </tr>\n",
              "    <tr>\n",
              "      <th>min</th>\n",
              "      <td>1.000000</td>\n",
              "      <td>8.500000e+04</td>\n",
              "      <td>0.000000</td>\n",
              "      <td>3000.000000</td>\n",
              "      <td>0.000000</td>\n",
              "      <td>0.000000</td>\n",
              "      <td>0.000000</td>\n",
              "      <td>0.000000</td>\n",
              "      <td>0.000000</td>\n",
              "      <td>1196.000000</td>\n",
              "      <td>-38.182550</td>\n",
              "      <td>144.431810</td>\n",
              "      <td>249.000000</td>\n",
              "    </tr>\n",
              "    <tr>\n",
              "      <th>25%</th>\n",
              "      <td>2.000000</td>\n",
              "      <td>6.500000e+05</td>\n",
              "      <td>6.100000</td>\n",
              "      <td>3044.000000</td>\n",
              "      <td>2.000000</td>\n",
              "      <td>1.000000</td>\n",
              "      <td>1.000000</td>\n",
              "      <td>177.000000</td>\n",
              "      <td>93.000000</td>\n",
              "      <td>1940.000000</td>\n",
              "      <td>-37.856822</td>\n",
              "      <td>144.929600</td>\n",
              "      <td>4380.000000</td>\n",
              "    </tr>\n",
              "    <tr>\n",
              "      <th>50%</th>\n",
              "      <td>3.000000</td>\n",
              "      <td>9.030000e+05</td>\n",
              "      <td>9.200000</td>\n",
              "      <td>3084.000000</td>\n",
              "      <td>3.000000</td>\n",
              "      <td>1.000000</td>\n",
              "      <td>2.000000</td>\n",
              "      <td>440.000000</td>\n",
              "      <td>126.000000</td>\n",
              "      <td>1970.000000</td>\n",
              "      <td>-37.802355</td>\n",
              "      <td>145.000100</td>\n",
              "      <td>6555.000000</td>\n",
              "    </tr>\n",
              "    <tr>\n",
              "      <th>75%</th>\n",
              "      <td>3.000000</td>\n",
              "      <td>1.330000e+06</td>\n",
              "      <td>13.000000</td>\n",
              "      <td>3148.000000</td>\n",
              "      <td>3.000000</td>\n",
              "      <td>2.000000</td>\n",
              "      <td>2.000000</td>\n",
              "      <td>651.000000</td>\n",
              "      <td>174.000000</td>\n",
              "      <td>1999.000000</td>\n",
              "      <td>-37.756400</td>\n",
              "      <td>145.058305</td>\n",
              "      <td>10331.000000</td>\n",
              "    </tr>\n",
              "    <tr>\n",
              "      <th>max</th>\n",
              "      <td>10.000000</td>\n",
              "      <td>9.000000e+06</td>\n",
              "      <td>48.100000</td>\n",
              "      <td>3977.000000</td>\n",
              "      <td>20.000000</td>\n",
              "      <td>8.000000</td>\n",
              "      <td>10.000000</td>\n",
              "      <td>433014.000000</td>\n",
              "      <td>44515.000000</td>\n",
              "      <td>2018.000000</td>\n",
              "      <td>-37.408530</td>\n",
              "      <td>145.526350</td>\n",
              "      <td>21650.000000</td>\n",
              "    </tr>\n",
              "  </tbody>\n",
              "</table>\n",
              "</div>\n",
              "      <button class=\"colab-df-convert\" onclick=\"convertToInteractive('df-4ae72f5d-4ff5-4295-b65b-36306ba39e6e')\"\n",
              "              title=\"Convert this dataframe to an interactive table.\"\n",
              "              style=\"display:none;\">\n",
              "        \n",
              "  <svg xmlns=\"http://www.w3.org/2000/svg\" height=\"24px\"viewBox=\"0 0 24 24\"\n",
              "       width=\"24px\">\n",
              "    <path d=\"M0 0h24v24H0V0z\" fill=\"none\"/>\n",
              "    <path d=\"M18.56 5.44l.94 2.06.94-2.06 2.06-.94-2.06-.94-.94-2.06-.94 2.06-2.06.94zm-11 1L8.5 8.5l.94-2.06 2.06-.94-2.06-.94L8.5 2.5l-.94 2.06-2.06.94zm10 10l.94 2.06.94-2.06 2.06-.94-2.06-.94-.94-2.06-.94 2.06-2.06.94z\"/><path d=\"M17.41 7.96l-1.37-1.37c-.4-.4-.92-.59-1.43-.59-.52 0-1.04.2-1.43.59L10.3 9.45l-7.72 7.72c-.78.78-.78 2.05 0 2.83L4 21.41c.39.39.9.59 1.41.59.51 0 1.02-.2 1.41-.59l7.78-7.78 2.81-2.81c.8-.78.8-2.07 0-2.86zM5.41 20L4 18.59l7.72-7.72 1.47 1.35L5.41 20z\"/>\n",
              "  </svg>\n",
              "      </button>\n",
              "      \n",
              "  <style>\n",
              "    .colab-df-container {\n",
              "      display:flex;\n",
              "      flex-wrap:wrap;\n",
              "      gap: 12px;\n",
              "    }\n",
              "\n",
              "    .colab-df-convert {\n",
              "      background-color: #E8F0FE;\n",
              "      border: none;\n",
              "      border-radius: 50%;\n",
              "      cursor: pointer;\n",
              "      display: none;\n",
              "      fill: #1967D2;\n",
              "      height: 32px;\n",
              "      padding: 0 0 0 0;\n",
              "      width: 32px;\n",
              "    }\n",
              "\n",
              "    .colab-df-convert:hover {\n",
              "      background-color: #E2EBFA;\n",
              "      box-shadow: 0px 1px 2px rgba(60, 64, 67, 0.3), 0px 1px 3px 1px rgba(60, 64, 67, 0.15);\n",
              "      fill: #174EA6;\n",
              "    }\n",
              "\n",
              "    [theme=dark] .colab-df-convert {\n",
              "      background-color: #3B4455;\n",
              "      fill: #D2E3FC;\n",
              "    }\n",
              "\n",
              "    [theme=dark] .colab-df-convert:hover {\n",
              "      background-color: #434B5C;\n",
              "      box-shadow: 0px 1px 3px 1px rgba(0, 0, 0, 0.15);\n",
              "      filter: drop-shadow(0px 1px 2px rgba(0, 0, 0, 0.3));\n",
              "      fill: #FFFFFF;\n",
              "    }\n",
              "  </style>\n",
              "\n",
              "      <script>\n",
              "        const buttonEl =\n",
              "          document.querySelector('#df-4ae72f5d-4ff5-4295-b65b-36306ba39e6e button.colab-df-convert');\n",
              "        buttonEl.style.display =\n",
              "          google.colab.kernel.accessAllowed ? 'block' : 'none';\n",
              "\n",
              "        async function convertToInteractive(key) {\n",
              "          const element = document.querySelector('#df-4ae72f5d-4ff5-4295-b65b-36306ba39e6e');\n",
              "          const dataTable =\n",
              "            await google.colab.kernel.invokeFunction('convertToInteractive',\n",
              "                                                     [key], {});\n",
              "          if (!dataTable) return;\n",
              "\n",
              "          const docLinkHtml = 'Like what you see? Visit the ' +\n",
              "            '<a target=\"_blank\" href=https://colab.research.google.com/notebooks/data_table.ipynb>data table notebook</a>'\n",
              "            + ' to learn more about interactive tables.';\n",
              "          element.innerHTML = '';\n",
              "          dataTable['output_type'] = 'display_data';\n",
              "          await google.colab.output.renderOutput(dataTable, element);\n",
              "          const docLink = document.createElement('div');\n",
              "          docLink.innerHTML = docLinkHtml;\n",
              "          element.appendChild(docLink);\n",
              "        }\n",
              "      </script>\n",
              "    </div>\n",
              "  </div>\n",
              "  "
            ]
          },
          "metadata": {},
          "execution_count": 53
        }
      ]
    },
    {
      "cell_type": "markdown",
      "source": [
        "## Data Preprocessing"
      ],
      "metadata": {
        "id": "jmta3_PlyNpq"
      }
    },
    {
      "cell_type": "code",
      "source": [
        "df = df.dropna(axis=0)"
      ],
      "metadata": {
        "id": "QcQOFm3Txv4Q"
      },
      "execution_count": null,
      "outputs": []
    },
    {
      "cell_type": "code",
      "source": [
        "y = df[\"Price\"]"
      ],
      "metadata": {
        "id": "GUs-trwzxv1_"
      },
      "execution_count": null,
      "outputs": []
    },
    {
      "cell_type": "code",
      "source": [
        "y"
      ],
      "metadata": {
        "colab": {
          "base_uri": "https://localhost:8080/"
        },
        "id": "mlBPymELy_Ze",
        "outputId": "9b6c591b-adfc-432e-bad0-2b4bbda841c9"
      },
      "execution_count": null,
      "outputs": [
        {
          "output_type": "execute_result",
          "data": {
            "text/plain": [
              "1        1035000.0\n",
              "2        1465000.0\n",
              "4        1600000.0\n",
              "6        1876000.0\n",
              "7        1636000.0\n",
              "           ...    \n",
              "12205     601000.0\n",
              "12206    1050000.0\n",
              "12207     385000.0\n",
              "12209     560000.0\n",
              "12212    2450000.0\n",
              "Name: Price, Length: 6196, dtype: float64"
            ]
          },
          "metadata": {},
          "execution_count": 56
        }
      ]
    },
    {
      "cell_type": "code",
      "source": [
        "features = ['Rooms', 'Bathroom', 'Landsize', 'Lattitude', 'Longtitude']"
      ],
      "metadata": {
        "id": "_dd9Gtdg0yju"
      },
      "execution_count": null,
      "outputs": []
    },
    {
      "cell_type": "code",
      "source": [
        "X = df[features]"
      ],
      "metadata": {
        "id": "D8y-r4Ks0yhn"
      },
      "execution_count": null,
      "outputs": []
    },
    {
      "cell_type": "code",
      "source": [
        "X.describe()"
      ],
      "metadata": {
        "colab": {
          "base_uri": "https://localhost:8080/",
          "height": 300
        },
        "id": "DWLTTFG00yfW",
        "outputId": "64525616-1edf-40f5-83c4-5666bda64ce2"
      },
      "execution_count": null,
      "outputs": [
        {
          "output_type": "execute_result",
          "data": {
            "text/plain": [
              "             Rooms     Bathroom      Landsize    Lattitude   Longtitude\n",
              "count  6196.000000  6196.000000   6196.000000  6196.000000  6196.000000\n",
              "mean      2.931407     1.576340    471.006940   -37.807904   144.990201\n",
              "std       0.971079     0.711362    897.449881     0.075850     0.099165\n",
              "min       1.000000     1.000000      0.000000   -38.164920   144.542370\n",
              "25%       2.000000     1.000000    152.000000   -37.855438   144.926198\n",
              "50%       3.000000     1.000000    373.000000   -37.802250   144.995800\n",
              "75%       4.000000     2.000000    628.000000   -37.758200   145.052700\n",
              "max       8.000000     8.000000  37000.000000   -37.457090   145.526350"
            ],
            "text/html": [
              "\n",
              "  <div id=\"df-23f3d8c1-cfe3-407c-85bd-e447ea79f28e\">\n",
              "    <div class=\"colab-df-container\">\n",
              "      <div>\n",
              "<style scoped>\n",
              "    .dataframe tbody tr th:only-of-type {\n",
              "        vertical-align: middle;\n",
              "    }\n",
              "\n",
              "    .dataframe tbody tr th {\n",
              "        vertical-align: top;\n",
              "    }\n",
              "\n",
              "    .dataframe thead th {\n",
              "        text-align: right;\n",
              "    }\n",
              "</style>\n",
              "<table border=\"1\" class=\"dataframe\">\n",
              "  <thead>\n",
              "    <tr style=\"text-align: right;\">\n",
              "      <th></th>\n",
              "      <th>Rooms</th>\n",
              "      <th>Bathroom</th>\n",
              "      <th>Landsize</th>\n",
              "      <th>Lattitude</th>\n",
              "      <th>Longtitude</th>\n",
              "    </tr>\n",
              "  </thead>\n",
              "  <tbody>\n",
              "    <tr>\n",
              "      <th>count</th>\n",
              "      <td>6196.000000</td>\n",
              "      <td>6196.000000</td>\n",
              "      <td>6196.000000</td>\n",
              "      <td>6196.000000</td>\n",
              "      <td>6196.000000</td>\n",
              "    </tr>\n",
              "    <tr>\n",
              "      <th>mean</th>\n",
              "      <td>2.931407</td>\n",
              "      <td>1.576340</td>\n",
              "      <td>471.006940</td>\n",
              "      <td>-37.807904</td>\n",
              "      <td>144.990201</td>\n",
              "    </tr>\n",
              "    <tr>\n",
              "      <th>std</th>\n",
              "      <td>0.971079</td>\n",
              "      <td>0.711362</td>\n",
              "      <td>897.449881</td>\n",
              "      <td>0.075850</td>\n",
              "      <td>0.099165</td>\n",
              "    </tr>\n",
              "    <tr>\n",
              "      <th>min</th>\n",
              "      <td>1.000000</td>\n",
              "      <td>1.000000</td>\n",
              "      <td>0.000000</td>\n",
              "      <td>-38.164920</td>\n",
              "      <td>144.542370</td>\n",
              "    </tr>\n",
              "    <tr>\n",
              "      <th>25%</th>\n",
              "      <td>2.000000</td>\n",
              "      <td>1.000000</td>\n",
              "      <td>152.000000</td>\n",
              "      <td>-37.855438</td>\n",
              "      <td>144.926198</td>\n",
              "    </tr>\n",
              "    <tr>\n",
              "      <th>50%</th>\n",
              "      <td>3.000000</td>\n",
              "      <td>1.000000</td>\n",
              "      <td>373.000000</td>\n",
              "      <td>-37.802250</td>\n",
              "      <td>144.995800</td>\n",
              "    </tr>\n",
              "    <tr>\n",
              "      <th>75%</th>\n",
              "      <td>4.000000</td>\n",
              "      <td>2.000000</td>\n",
              "      <td>628.000000</td>\n",
              "      <td>-37.758200</td>\n",
              "      <td>145.052700</td>\n",
              "    </tr>\n",
              "    <tr>\n",
              "      <th>max</th>\n",
              "      <td>8.000000</td>\n",
              "      <td>8.000000</td>\n",
              "      <td>37000.000000</td>\n",
              "      <td>-37.457090</td>\n",
              "      <td>145.526350</td>\n",
              "    </tr>\n",
              "  </tbody>\n",
              "</table>\n",
              "</div>\n",
              "      <button class=\"colab-df-convert\" onclick=\"convertToInteractive('df-23f3d8c1-cfe3-407c-85bd-e447ea79f28e')\"\n",
              "              title=\"Convert this dataframe to an interactive table.\"\n",
              "              style=\"display:none;\">\n",
              "        \n",
              "  <svg xmlns=\"http://www.w3.org/2000/svg\" height=\"24px\"viewBox=\"0 0 24 24\"\n",
              "       width=\"24px\">\n",
              "    <path d=\"M0 0h24v24H0V0z\" fill=\"none\"/>\n",
              "    <path d=\"M18.56 5.44l.94 2.06.94-2.06 2.06-.94-2.06-.94-.94-2.06-.94 2.06-2.06.94zm-11 1L8.5 8.5l.94-2.06 2.06-.94-2.06-.94L8.5 2.5l-.94 2.06-2.06.94zm10 10l.94 2.06.94-2.06 2.06-.94-2.06-.94-.94-2.06-.94 2.06-2.06.94z\"/><path d=\"M17.41 7.96l-1.37-1.37c-.4-.4-.92-.59-1.43-.59-.52 0-1.04.2-1.43.59L10.3 9.45l-7.72 7.72c-.78.78-.78 2.05 0 2.83L4 21.41c.39.39.9.59 1.41.59.51 0 1.02-.2 1.41-.59l7.78-7.78 2.81-2.81c.8-.78.8-2.07 0-2.86zM5.41 20L4 18.59l7.72-7.72 1.47 1.35L5.41 20z\"/>\n",
              "  </svg>\n",
              "      </button>\n",
              "      \n",
              "  <style>\n",
              "    .colab-df-container {\n",
              "      display:flex;\n",
              "      flex-wrap:wrap;\n",
              "      gap: 12px;\n",
              "    }\n",
              "\n",
              "    .colab-df-convert {\n",
              "      background-color: #E8F0FE;\n",
              "      border: none;\n",
              "      border-radius: 50%;\n",
              "      cursor: pointer;\n",
              "      display: none;\n",
              "      fill: #1967D2;\n",
              "      height: 32px;\n",
              "      padding: 0 0 0 0;\n",
              "      width: 32px;\n",
              "    }\n",
              "\n",
              "    .colab-df-convert:hover {\n",
              "      background-color: #E2EBFA;\n",
              "      box-shadow: 0px 1px 2px rgba(60, 64, 67, 0.3), 0px 1px 3px 1px rgba(60, 64, 67, 0.15);\n",
              "      fill: #174EA6;\n",
              "    }\n",
              "\n",
              "    [theme=dark] .colab-df-convert {\n",
              "      background-color: #3B4455;\n",
              "      fill: #D2E3FC;\n",
              "    }\n",
              "\n",
              "    [theme=dark] .colab-df-convert:hover {\n",
              "      background-color: #434B5C;\n",
              "      box-shadow: 0px 1px 3px 1px rgba(0, 0, 0, 0.15);\n",
              "      filter: drop-shadow(0px 1px 2px rgba(0, 0, 0, 0.3));\n",
              "      fill: #FFFFFF;\n",
              "    }\n",
              "  </style>\n",
              "\n",
              "      <script>\n",
              "        const buttonEl =\n",
              "          document.querySelector('#df-23f3d8c1-cfe3-407c-85bd-e447ea79f28e button.colab-df-convert');\n",
              "        buttonEl.style.display =\n",
              "          google.colab.kernel.accessAllowed ? 'block' : 'none';\n",
              "\n",
              "        async function convertToInteractive(key) {\n",
              "          const element = document.querySelector('#df-23f3d8c1-cfe3-407c-85bd-e447ea79f28e');\n",
              "          const dataTable =\n",
              "            await google.colab.kernel.invokeFunction('convertToInteractive',\n",
              "                                                     [key], {});\n",
              "          if (!dataTable) return;\n",
              "\n",
              "          const docLinkHtml = 'Like what you see? Visit the ' +\n",
              "            '<a target=\"_blank\" href=https://colab.research.google.com/notebooks/data_table.ipynb>data table notebook</a>'\n",
              "            + ' to learn more about interactive tables.';\n",
              "          element.innerHTML = '';\n",
              "          dataTable['output_type'] = 'display_data';\n",
              "          await google.colab.output.renderOutput(dataTable, element);\n",
              "          const docLink = document.createElement('div');\n",
              "          docLink.innerHTML = docLinkHtml;\n",
              "          element.appendChild(docLink);\n",
              "        }\n",
              "      </script>\n",
              "    </div>\n",
              "  </div>\n",
              "  "
            ]
          },
          "metadata": {},
          "execution_count": 59
        }
      ]
    },
    {
      "cell_type": "markdown",
      "source": [
        "## Training"
      ],
      "metadata": {
        "id": "AqVcNnKv1q0O"
      }
    },
    {
      "cell_type": "markdown",
      "source": [
        "### Scikit learn model fitting process\n",
        "* Define\n",
        "* Fit\n",
        "* Predict\n",
        "* Evaluate"
      ],
      "metadata": {
        "id": "tVer8x-F7cW8"
      }
    },
    {
      "cell_type": "code",
      "source": [
        "from sklearn.tree import DecisionTreeRegressor\n",
        "from sklearn.model_selection import train_test_split"
      ],
      "metadata": {
        "id": "ltbLWok87hjg"
      },
      "execution_count": null,
      "outputs": []
    },
    {
      "cell_type": "code",
      "source": [
        "train_X, test_X, train_y, test_y = train_test_split(X, y, test_size=0.1, random_state = 1)"
      ],
      "metadata": {
        "id": "rY_vHr9t9mtY"
      },
      "execution_count": null,
      "outputs": []
    },
    {
      "cell_type": "code",
      "source": [
        "model = DecisionTreeRegressor(random_state=1)"
      ],
      "metadata": {
        "id": "O9bzHHe4pYaZ"
      },
      "execution_count": null,
      "outputs": []
    },
    {
      "cell_type": "code",
      "source": [
        "model.fit(train_X, train_y)"
      ],
      "metadata": {
        "colab": {
          "base_uri": "https://localhost:8080/"
        },
        "id": "L36jfhd_7kSq",
        "outputId": "71da946d-5a4b-4b65-aef5-d6d1f701ff0c"
      },
      "execution_count": null,
      "outputs": [
        {
          "output_type": "execute_result",
          "data": {
            "text/plain": [
              "DecisionTreeRegressor(random_state=1)"
            ]
          },
          "metadata": {},
          "execution_count": 63
        }
      ]
    },
    {
      "cell_type": "code",
      "source": [
        "print(model.predict(train_X))"
      ],
      "metadata": {
        "colab": {
          "base_uri": "https://localhost:8080/"
        },
        "id": "DSrLa8o873Wr",
        "outputId": "557d6bed-2fad-4deb-b414-ea0b9ef77b1d"
      },
      "execution_count": null,
      "outputs": [
        {
          "output_type": "stream",
          "name": "stdout",
          "text": [
            "[ 655000. 1741000. 2000000. ...  337500. 1950000.  505000.]\n"
          ]
        }
      ]
    },
    {
      "cell_type": "markdown",
      "source": [
        "## Testing"
      ],
      "metadata": {
        "id": "7tc3Isua8VII"
      }
    },
    {
      "cell_type": "code",
      "source": [
        "# Importance of evaluation metrics"
      ],
      "metadata": {
        "id": "-n0hd2UQ8YHe"
      },
      "execution_count": null,
      "outputs": []
    },
    {
      "cell_type": "code",
      "source": [
        "from sklearn.metrics import mean_absolute_error"
      ],
      "metadata": {
        "id": "W2iO6XcLwYA3"
      },
      "execution_count": null,
      "outputs": []
    },
    {
      "cell_type": "code",
      "source": [
        "predictions = model.predict(test_X)"
      ],
      "metadata": {
        "id": "7XnIvP3t9GK3"
      },
      "execution_count": null,
      "outputs": []
    },
    {
      "cell_type": "code",
      "source": [
        "print(mean_absolute_error(test_y, predictions))"
      ],
      "metadata": {
        "colab": {
          "base_uri": "https://localhost:8080/"
        },
        "id": "O5aTLxDD8YFM",
        "outputId": "8fba513d-c2b2-450c-8ca9-3f3408b4be9c"
      },
      "execution_count": null,
      "outputs": [
        {
          "output_type": "stream",
          "name": "stdout",
          "text": [
            "258800.46774193548\n"
          ]
        }
      ]
    },
    {
      "cell_type": "markdown",
      "source": [
        "## Underfitting and Overfitting"
      ],
      "metadata": {
        "id": "lNMB2Mt_weXX"
      }
    },
    {
      "cell_type": "markdown",
      "source": [
        "Source: https://meditationsonbianddatascience.com/2017/05/11/overfitting-underfitting-how-well-does-your-model-fit/"
      ],
      "metadata": {
        "id": "fK9bmImy6ANo"
      }
    },
    {
      "cell_type": "markdown",
      "source": [
        "![fitgraph.jpg](data:image/jpeg;base64,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)"
      ],
      "metadata": {
        "id": "OooVQ-j16DF4"
      }
    },
    {
      "cell_type": "code",
      "source": [
        "def get_mae(max_leaf_nodes, train_X, test_X, train_y, test_y):\n",
        "\n",
        "    model = DecisionTreeRegressor(max_leaf_nodes=max_leaf_nodes, random_state=1)\n",
        "    model.fit(train_X, train_y)\n",
        "    preds_test = model.predict(test_X)\n",
        "    mae = mean_absolute_error(test_y, preds_test)\n",
        "    \n",
        "    return(mae)"
      ],
      "metadata": {
        "id": "SP0yz58V1Zbe"
      },
      "execution_count": null,
      "outputs": []
    },
    {
      "cell_type": "code",
      "source": [
        "for max_leaf_nodes in [5, 50, 500, 5000]:\n",
        "\n",
        "    my_mae = get_mae(max_leaf_nodes, train_X, test_X, train_y, test_y)\n",
        "    print(\"Max leaf nodes: %d  \\t\\t Mean Absolute Error:  %d\" %(max_leaf_nodes, my_mae))"
      ],
      "metadata": {
        "colab": {
          "base_uri": "https://localhost:8080/"
        },
        "id": "J3O5qstj1aR6",
        "outputId": "84742367-51e4-4bfc-a8c9-79e20245e168"
      },
      "execution_count": null,
      "outputs": [
        {
          "output_type": "stream",
          "name": "stdout",
          "text": [
            "Max leaf nodes: 5  \t\t Mean Absolute Error:  351668\n",
            "Max leaf nodes: 50  \t\t Mean Absolute Error:  256544\n",
            "Max leaf nodes: 500  \t\t Mean Absolute Error:  241550\n",
            "Max leaf nodes: 5000  \t\t Mean Absolute Error:  253374\n"
          ]
        }
      ]
    },
    {
      "cell_type": "markdown",
      "source": [
        "## Time to test your knowledge!"
      ],
      "metadata": {
        "id": "OV_2MMXAaUpl"
      }
    },
    {
      "cell_type": "markdown",
      "source": [
        "### Question 1 - Random Forests"
      ],
      "metadata": {
        "id": "0mkt5rdQnQOW"
      }
    },
    {
      "cell_type": "markdown",
      "source": [
        "Use scikit learn to train a random forest model instead of decision trees to solve the problem above. Submit your code!\n",
        "\n"
      ],
      "metadata": {
        "id": "u05zhlzpr228"
      }
    },
    {
      "cell_type": "markdown",
      "source": [
        "## What's next?\n",
        "\n",
        "- Kaggle course: https://www.kaggle.com/learn/intro-to-machine-learning\n",
        "- Scikit-learn docs: https://scikit-learn.org/stable/\n",
        "\n",
        "## Last session on Wednesday, 9th November \n",
        "- Intermediate machine learning\n"
      ],
      "metadata": {
        "id": "kAAO7wotpEKV"
      }
    },
    {
      "cell_type": "code",
      "source": [],
      "metadata": {
        "id": "mJ-HvQJwpURd"
      },
      "execution_count": null,
      "outputs": []
    }
  ]
}