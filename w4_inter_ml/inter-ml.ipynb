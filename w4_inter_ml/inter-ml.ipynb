{
  "nbformat": 4,
  "nbformat_minor": 0,
  "metadata": {
    "colab": {
      "provenance": [],
      "collapsed_sections": []
    },
    "kernelspec": {
      "name": "python3",
      "display_name": "Python 3"
    },
    "language_info": {
      "name": "python"
    }
  },
  "cells": [
    {
      "cell_type": "markdown",
      "source": [
        "## Facilitator\n",
        "\n",
        "Ali Haider - Technical Lead - GDSC Iowa State University\n",
        "\n",
        "### Links\n",
        "\n",
        "- LinkedIn: https://www.linkedin.com/in/m-ali-haider/\n",
        "- Email: mhaider@iastate.edu\n",
        "- Github: https://github.com/allihaider\n",
        "- Medium: https://medium.com/@m.allihaider\n",
        "\n",
        "\n",
        "---\n",
        "\n",
        "## Topics\n",
        "1. Dealing with Missing Values\n",
        "2. Using Categorical Variables\n",
        "3. Pipelines\n",
        "4. Cross Validation\n"
      ],
      "metadata": {
        "id": "QOub6OyLHLHq"
      }
    },
    {
      "cell_type": "markdown",
      "source": [
        "## Dealing with Missing Values\n"
      ],
      "metadata": {
        "id": "Av69wP-KHb2P"
      }
    },
    {
      "cell_type": "code",
      "source": [
        "# Presence of missing values in real world data\n",
        "# Most libraries throw errors when missing values are passed\n",
        "# Dropping columns\n",
        "# Imputation, replacing with average"
      ],
      "metadata": {
        "id": "FZbyu0pDQfML"
      },
      "execution_count": null,
      "outputs": []
    },
    {
      "cell_type": "markdown",
      "source": [
        "### Random Forest Model"
      ],
      "metadata": {
        "id": "42Vt_Q-xSZuc"
      }
    },
    {
      "cell_type": "code",
      "source": [
        "import pandas as pd\n",
        "from sklearn.ensemble import RandomForestRegressor\n",
        "from sklearn.model_selection import train_test_split\n",
        "from sklearn.metrics import mean_absolute_error"
      ],
      "metadata": {
        "id": "HVPJ-fyyu8Xp"
      },
      "execution_count": null,
      "outputs": []
    },
    {
      "cell_type": "code",
      "source": [
        "df = pd.read_csv(\"melb_data.csv\")\n",
        "df = df.dropna(axis=0)"
      ],
      "metadata": {
        "id": "t_shpIjdSclh"
      },
      "execution_count": null,
      "outputs": []
    },
    {
      "cell_type": "code",
      "source": [
        "y = df[\"Price\"]\n",
        "features = ['Rooms', 'Bathroom', 'Landsize', 'Lattitude', 'Longtitude']\n",
        "X = df[features]"
      ],
      "metadata": {
        "id": "Z9pFOgg2Sci_"
      },
      "execution_count": null,
      "outputs": []
    },
    {
      "cell_type": "code",
      "source": [
        "train_X, test_X, train_y, test_y = train_test_split(X, y, test_size=0.1, random_state=1)"
      ],
      "metadata": {
        "id": "9UXI5DLgr2It"
      },
      "execution_count": null,
      "outputs": []
    },
    {
      "cell_type": "code",
      "source": [
        "model = RandomForestRegressor(n_estimators=50, random_state=1)\n",
        "model.fit(train_X, train_y)"
      ],
      "metadata": {
        "colab": {
          "base_uri": "https://localhost:8080/"
        },
        "id": "zvpenmdySevQ",
        "outputId": "845c7be4-3647-4064-a143-478295377e5e"
      },
      "execution_count": null,
      "outputs": [
        {
          "output_type": "execute_result",
          "data": {
            "text/plain": [
              "RandomForestRegressor(n_estimators=50, random_state=1)"
            ]
          },
          "metadata": {},
          "execution_count": 8
        }
      ]
    },
    {
      "cell_type": "code",
      "source": [
        "predictions = model.predict(test_X)\n",
        "print(mean_absolute_error(test_y, predictions))"
      ],
      "metadata": {
        "colab": {
          "base_uri": "https://localhost:8080/"
        },
        "id": "Emu28QSLruQn",
        "outputId": "dd5b6123-bd87-4e20-9a78-9e94ed5e5c29"
      },
      "execution_count": null,
      "outputs": [
        {
          "output_type": "stream",
          "name": "stdout",
          "text": [
            "181132.7537357911\n"
          ]
        }
      ]
    },
    {
      "cell_type": "markdown",
      "source": [
        "### Imputation"
      ],
      "metadata": {
        "id": "8XgESmKPSho5"
      }
    },
    {
      "cell_type": "code",
      "source": [
        "from sklearn.impute import SimpleImputer"
      ],
      "metadata": {
        "id": "tK5r4ULQQvFl"
      },
      "execution_count": null,
      "outputs": []
    },
    {
      "cell_type": "code",
      "source": [
        "my_imputer = SimpleImputer()"
      ],
      "metadata": {
        "id": "TQyOLi3kQ1Z6"
      },
      "execution_count": null,
      "outputs": []
    },
    {
      "cell_type": "code",
      "source": [
        "test_dict = {\"Scores\": [88, 75, 100, 50, None, 77]}\n",
        "test_df = pd.DataFrame.from_dict(test_dict)"
      ],
      "metadata": {
        "id": "pOQHhs38REk_"
      },
      "execution_count": null,
      "outputs": []
    },
    {
      "cell_type": "code",
      "source": [
        "test_df"
      ],
      "metadata": {
        "colab": {
          "base_uri": "https://localhost:8080/",
          "height": 237
        },
        "id": "7fy0Gl--Rh2H",
        "outputId": "5ad5ec1a-8ccf-4e54-de7e-f7ba7b1cbbb9"
      },
      "execution_count": null,
      "outputs": [
        {
          "output_type": "execute_result",
          "data": {
            "text/plain": [
              "   Scores\n",
              "0    88.0\n",
              "1    75.0\n",
              "2   100.0\n",
              "3    50.0\n",
              "4     NaN\n",
              "5    77.0"
            ],
            "text/html": [
              "\n",
              "  <div id=\"df-b4b69aab-daa4-4651-a14a-fd19497b4278\">\n",
              "    <div class=\"colab-df-container\">\n",
              "      <div>\n",
              "<style scoped>\n",
              "    .dataframe tbody tr th:only-of-type {\n",
              "        vertical-align: middle;\n",
              "    }\n",
              "\n",
              "    .dataframe tbody tr th {\n",
              "        vertical-align: top;\n",
              "    }\n",
              "\n",
              "    .dataframe thead th {\n",
              "        text-align: right;\n",
              "    }\n",
              "</style>\n",
              "<table border=\"1\" class=\"dataframe\">\n",
              "  <thead>\n",
              "    <tr style=\"text-align: right;\">\n",
              "      <th></th>\n",
              "      <th>Scores</th>\n",
              "    </tr>\n",
              "  </thead>\n",
              "  <tbody>\n",
              "    <tr>\n",
              "      <th>0</th>\n",
              "      <td>88.0</td>\n",
              "    </tr>\n",
              "    <tr>\n",
              "      <th>1</th>\n",
              "      <td>75.0</td>\n",
              "    </tr>\n",
              "    <tr>\n",
              "      <th>2</th>\n",
              "      <td>100.0</td>\n",
              "    </tr>\n",
              "    <tr>\n",
              "      <th>3</th>\n",
              "      <td>50.0</td>\n",
              "    </tr>\n",
              "    <tr>\n",
              "      <th>4</th>\n",
              "      <td>NaN</td>\n",
              "    </tr>\n",
              "    <tr>\n",
              "      <th>5</th>\n",
              "      <td>77.0</td>\n",
              "    </tr>\n",
              "  </tbody>\n",
              "</table>\n",
              "</div>\n",
              "      <button class=\"colab-df-convert\" onclick=\"convertToInteractive('df-b4b69aab-daa4-4651-a14a-fd19497b4278')\"\n",
              "              title=\"Convert this dataframe to an interactive table.\"\n",
              "              style=\"display:none;\">\n",
              "        \n",
              "  <svg xmlns=\"http://www.w3.org/2000/svg\" height=\"24px\"viewBox=\"0 0 24 24\"\n",
              "       width=\"24px\">\n",
              "    <path d=\"M0 0h24v24H0V0z\" fill=\"none\"/>\n",
              "    <path d=\"M18.56 5.44l.94 2.06.94-2.06 2.06-.94-2.06-.94-.94-2.06-.94 2.06-2.06.94zm-11 1L8.5 8.5l.94-2.06 2.06-.94-2.06-.94L8.5 2.5l-.94 2.06-2.06.94zm10 10l.94 2.06.94-2.06 2.06-.94-2.06-.94-.94-2.06-.94 2.06-2.06.94z\"/><path d=\"M17.41 7.96l-1.37-1.37c-.4-.4-.92-.59-1.43-.59-.52 0-1.04.2-1.43.59L10.3 9.45l-7.72 7.72c-.78.78-.78 2.05 0 2.83L4 21.41c.39.39.9.59 1.41.59.51 0 1.02-.2 1.41-.59l7.78-7.78 2.81-2.81c.8-.78.8-2.07 0-2.86zM5.41 20L4 18.59l7.72-7.72 1.47 1.35L5.41 20z\"/>\n",
              "  </svg>\n",
              "      </button>\n",
              "      \n",
              "  <style>\n",
              "    .colab-df-container {\n",
              "      display:flex;\n",
              "      flex-wrap:wrap;\n",
              "      gap: 12px;\n",
              "    }\n",
              "\n",
              "    .colab-df-convert {\n",
              "      background-color: #E8F0FE;\n",
              "      border: none;\n",
              "      border-radius: 50%;\n",
              "      cursor: pointer;\n",
              "      display: none;\n",
              "      fill: #1967D2;\n",
              "      height: 32px;\n",
              "      padding: 0 0 0 0;\n",
              "      width: 32px;\n",
              "    }\n",
              "\n",
              "    .colab-df-convert:hover {\n",
              "      background-color: #E2EBFA;\n",
              "      box-shadow: 0px 1px 2px rgba(60, 64, 67, 0.3), 0px 1px 3px 1px rgba(60, 64, 67, 0.15);\n",
              "      fill: #174EA6;\n",
              "    }\n",
              "\n",
              "    [theme=dark] .colab-df-convert {\n",
              "      background-color: #3B4455;\n",
              "      fill: #D2E3FC;\n",
              "    }\n",
              "\n",
              "    [theme=dark] .colab-df-convert:hover {\n",
              "      background-color: #434B5C;\n",
              "      box-shadow: 0px 1px 3px 1px rgba(0, 0, 0, 0.15);\n",
              "      filter: drop-shadow(0px 1px 2px rgba(0, 0, 0, 0.3));\n",
              "      fill: #FFFFFF;\n",
              "    }\n",
              "  </style>\n",
              "\n",
              "      <script>\n",
              "        const buttonEl =\n",
              "          document.querySelector('#df-b4b69aab-daa4-4651-a14a-fd19497b4278 button.colab-df-convert');\n",
              "        buttonEl.style.display =\n",
              "          google.colab.kernel.accessAllowed ? 'block' : 'none';\n",
              "\n",
              "        async function convertToInteractive(key) {\n",
              "          const element = document.querySelector('#df-b4b69aab-daa4-4651-a14a-fd19497b4278');\n",
              "          const dataTable =\n",
              "            await google.colab.kernel.invokeFunction('convertToInteractive',\n",
              "                                                     [key], {});\n",
              "          if (!dataTable) return;\n",
              "\n",
              "          const docLinkHtml = 'Like what you see? Visit the ' +\n",
              "            '<a target=\"_blank\" href=https://colab.research.google.com/notebooks/data_table.ipynb>data table notebook</a>'\n",
              "            + ' to learn more about interactive tables.';\n",
              "          element.innerHTML = '';\n",
              "          dataTable['output_type'] = 'display_data';\n",
              "          await google.colab.output.renderOutput(dataTable, element);\n",
              "          const docLink = document.createElement('div');\n",
              "          docLink.innerHTML = docLinkHtml;\n",
              "          element.appendChild(docLink);\n",
              "        }\n",
              "      </script>\n",
              "    </div>\n",
              "  </div>\n",
              "  "
            ]
          },
          "metadata": {},
          "execution_count": 13
        }
      ]
    },
    {
      "cell_type": "code",
      "source": [
        "my_imputer.fit_transform(test_df)"
      ],
      "metadata": {
        "colab": {
          "base_uri": "https://localhost:8080/"
        },
        "id": "Xlwkcqe2Rp2H",
        "outputId": "3c8f5982-1df4-4a72-d0a2-2cbb85713d23"
      },
      "execution_count": null,
      "outputs": [
        {
          "output_type": "execute_result",
          "data": {
            "text/plain": [
              "array([[ 88.],\n",
              "       [ 75.],\n",
              "       [100.],\n",
              "       [ 50.],\n",
              "       [ 78.],\n",
              "       [ 77.]])"
            ]
          },
          "metadata": {},
          "execution_count": 14
        }
      ]
    },
    {
      "cell_type": "markdown",
      "source": [
        "### Random Forest Model with Imputation"
      ],
      "metadata": {
        "id": "RJBl2banSlf0"
      }
    },
    {
      "cell_type": "code",
      "source": [
        "df = pd.read_csv(\"melb_data.csv\")"
      ],
      "metadata": {
        "id": "cU7p12-ZSq0G"
      },
      "execution_count": null,
      "outputs": []
    },
    {
      "cell_type": "code",
      "source": [
        "y = df[\"Price\"]\n",
        "features = ['Rooms', 'Bathroom', 'Landsize', 'Lattitude', 'Longtitude']\n",
        "X = df[features]"
      ],
      "metadata": {
        "id": "9bkY_vf6StFD"
      },
      "execution_count": null,
      "outputs": []
    },
    {
      "cell_type": "code",
      "source": [
        "train_X, test_X, train_y, test_y = train_test_split(X, y, test_size=0.1, random_state=1)"
      ],
      "metadata": {
        "id": "_PFh7jTFSvSk"
      },
      "execution_count": null,
      "outputs": []
    },
    {
      "cell_type": "code",
      "source": [
        "imputed_train_X = pd.DataFrame(my_imputer.fit_transform(train_X))\n",
        "imputed_test_X = pd.DataFrame(my_imputer.transform(test_X))"
      ],
      "metadata": {
        "id": "8iiWTB6YSzR1"
      },
      "execution_count": null,
      "outputs": []
    },
    {
      "cell_type": "code",
      "source": [
        "imputed_train_X.columns = train_X.columns\n",
        "imputed_test_X.columns = test_X.columns"
      ],
      "metadata": {
        "id": "2L1Wz_0yrkQC"
      },
      "execution_count": null,
      "outputs": []
    },
    {
      "cell_type": "code",
      "source": [
        "model = RandomForestRegressor(n_estimators=50, random_state=1)\n",
        "model.fit(imputed_train_X, train_y)"
      ],
      "metadata": {
        "colab": {
          "base_uri": "https://localhost:8080/"
        },
        "id": "PTp4s9J6rpzt",
        "outputId": "e8625766-113a-4420-b63e-8a27b34578aa"
      },
      "execution_count": null,
      "outputs": [
        {
          "output_type": "execute_result",
          "data": {
            "text/plain": [
              "RandomForestRegressor(n_estimators=50, random_state=1)"
            ]
          },
          "metadata": {},
          "execution_count": 21
        }
      ]
    },
    {
      "cell_type": "code",
      "source": [
        "predictions = model.predict(imputed_test_X)\n",
        "print(mean_absolute_error(test_y, predictions))"
      ],
      "metadata": {
        "colab": {
          "base_uri": "https://localhost:8080/"
        },
        "id": "-g0pe6cIruOY",
        "outputId": "29da4839-9016-4713-b44f-1d789bade758"
      },
      "execution_count": null,
      "outputs": [
        {
          "output_type": "stream",
          "name": "stdout",
          "text": [
            "174254.63829616384\n"
          ]
        }
      ]
    },
    {
      "cell_type": "markdown",
      "source": [
        "## Using Categorical Variables"
      ],
      "metadata": {
        "id": "l47qMiT831ZP"
      }
    },
    {
      "cell_type": "code",
      "source": [
        "# What are categorical variables?\n",
        "# Dealing with them\n",
        "  # Drop categorical variables\n",
        "  # Ordinal encoding\n",
        "  # One hot encoding"
      ],
      "metadata": {
        "id": "HMPv1_7wsKSf"
      },
      "execution_count": null,
      "outputs": []
    },
    {
      "cell_type": "markdown",
      "source": [
        "### One-hot Encoding"
      ],
      "metadata": {
        "id": "p7h769Bas5Y7"
      }
    },
    {
      "cell_type": "markdown",
      "source": [
        "Source: https://towardsdatascience.com/building-a-one-hot-encoding-layer-with-tensorflow-f907d686bf39\n",
        "\n",
        "![one-hot.png](data:image/png;base64,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)"
      ],
      "metadata": {
        "id": "yyUivGw4szwZ"
      }
    },
    {
      "cell_type": "code",
      "source": [
        "df = pd.read_csv(\"melb_data.csv\")"
      ],
      "metadata": {
        "id": "nS6ckvByHTr8"
      },
      "execution_count": null,
      "outputs": []
    },
    {
      "cell_type": "code",
      "source": [
        "y = df[\"Price\"]\n",
        "numerical_features = ['Rooms', 'Bathroom', 'Landsize', 'Lattitude', 'Longtitude']\n",
        "categorical_features = ['Type', 'Method', 'Regionname']\n",
        "X = df[numerical_features + categorical_features]"
      ],
      "metadata": {
        "id": "2XyrZpRYHTp5"
      },
      "execution_count": null,
      "outputs": []
    },
    {
      "cell_type": "code",
      "source": [
        "train_X, test_X, train_y, test_y = train_test_split(X, y, test_size=0.1, random_state=1)"
      ],
      "metadata": {
        "id": "R7yig4mpHTnp"
      },
      "execution_count": null,
      "outputs": []
    },
    {
      "cell_type": "code",
      "source": [
        "imputed_train_X = pd.DataFrame(my_imputer.fit_transform(train_X[numerical_features]))\n",
        "imputed_test_X = pd.DataFrame(my_imputer.transform(test_X[numerical_features]))"
      ],
      "metadata": {
        "id": "UPWEhU9psbLl"
      },
      "execution_count": null,
      "outputs": []
    },
    {
      "cell_type": "code",
      "source": [
        "imputed_train_X.columns = numerical_features\n",
        "imputed_test_X.columns = numerical_features"
      ],
      "metadata": {
        "id": "XnlokvZfHZGG"
      },
      "execution_count": null,
      "outputs": []
    },
    {
      "cell_type": "markdown",
      "source": [
        "### Random Forest with Imputation and One-hot Encoding"
      ],
      "metadata": {
        "id": "lAGkyqxns9zK"
      }
    },
    {
      "cell_type": "code",
      "source": [
        "from sklearn.preprocessing import OneHotEncoder"
      ],
      "metadata": {
        "id": "nhUwlqynsfgI"
      },
      "execution_count": null,
      "outputs": []
    },
    {
      "cell_type": "code",
      "source": [
        "OH_encoder = OneHotEncoder(handle_unknown='ignore', sparse=False)"
      ],
      "metadata": {
        "id": "DzObL3zUshkV"
      },
      "execution_count": null,
      "outputs": []
    },
    {
      "cell_type": "code",
      "source": [
        "OH_train_X = pd.DataFrame(OH_encoder.fit_transform(train_X[categorical_features]))\n",
        "OH_test_X = pd.DataFrame(OH_encoder.transform(test_X[categorical_features]))"
      ],
      "metadata": {
        "id": "_TWPRPlTHZ2i"
      },
      "execution_count": null,
      "outputs": []
    },
    {
      "cell_type": "code",
      "source": [
        "categorical_features"
      ],
      "metadata": {
        "colab": {
          "base_uri": "https://localhost:8080/"
        },
        "id": "83Ufwvw4DaeM",
        "outputId": "77d67662-2618-490f-b542-4a533f67e8d0"
      },
      "execution_count": null,
      "outputs": [
        {
          "output_type": "execute_result",
          "data": {
            "text/plain": [
              "['Type', 'Method', 'Regionname']"
            ]
          },
          "metadata": {},
          "execution_count": 35
        }
      ]
    },
    {
      "cell_type": "code",
      "source": [
        "OH_train_X"
      ],
      "metadata": {
        "colab": {
          "base_uri": "https://localhost:8080/",
          "height": 423
        },
        "id": "Ty9bT4CnJu8b",
        "outputId": "3b7b1e1c-9cc6-41ed-f39f-607b43a40a2a"
      },
      "execution_count": null,
      "outputs": [
        {
          "output_type": "execute_result",
          "data": {
            "text/plain": [
              "        0    1    2    3    4    5    6    7    8    9    10   11   12   13  \\\n",
              "0      1.0  0.0  0.0  0.0  1.0  0.0  0.0  0.0  0.0  0.0  0.0  0.0  0.0  1.0   \n",
              "1      1.0  0.0  0.0  0.0  0.0  0.0  1.0  0.0  0.0  0.0  0.0  0.0  0.0  1.0   \n",
              "2      0.0  1.0  0.0  0.0  1.0  0.0  0.0  0.0  0.0  0.0  0.0  0.0  0.0  0.0   \n",
              "3      0.0  1.0  0.0  0.0  1.0  0.0  0.0  0.0  0.0  0.0  1.0  0.0  0.0  0.0   \n",
              "4      1.0  0.0  0.0  0.0  1.0  0.0  0.0  0.0  0.0  0.0  0.0  0.0  0.0  0.0   \n",
              "...    ...  ...  ...  ...  ...  ...  ...  ...  ...  ...  ...  ...  ...  ...   \n",
              "12217  1.0  0.0  0.0  0.0  1.0  0.0  0.0  0.0  0.0  0.0  0.0  0.0  0.0  1.0   \n",
              "12218  1.0  0.0  0.0  0.0  1.0  0.0  0.0  0.0  0.0  0.0  1.0  0.0  0.0  0.0   \n",
              "12219  1.0  0.0  0.0  0.0  1.0  0.0  0.0  0.0  0.0  0.0  0.0  0.0  0.0  0.0   \n",
              "12220  1.0  0.0  0.0  1.0  0.0  0.0  0.0  0.0  0.0  0.0  0.0  0.0  0.0  1.0   \n",
              "12221  1.0  0.0  0.0  1.0  0.0  0.0  0.0  0.0  0.0  0.0  0.0  0.0  0.0  1.0   \n",
              "\n",
              "        14   15  \n",
              "0      0.0  0.0  \n",
              "1      0.0  0.0  \n",
              "2      1.0  0.0  \n",
              "3      0.0  0.0  \n",
              "4      1.0  0.0  \n",
              "...    ...  ...  \n",
              "12217  0.0  0.0  \n",
              "12218  0.0  0.0  \n",
              "12219  1.0  0.0  \n",
              "12220  0.0  0.0  \n",
              "12221  0.0  0.0  \n",
              "\n",
              "[12222 rows x 16 columns]"
            ],
            "text/html": [
              "\n",
              "  <div id=\"df-4a6d7e0c-353d-426f-949f-e7a8f306ac99\">\n",
              "    <div class=\"colab-df-container\">\n",
              "      <div>\n",
              "<style scoped>\n",
              "    .dataframe tbody tr th:only-of-type {\n",
              "        vertical-align: middle;\n",
              "    }\n",
              "\n",
              "    .dataframe tbody tr th {\n",
              "        vertical-align: top;\n",
              "    }\n",
              "\n",
              "    .dataframe thead th {\n",
              "        text-align: right;\n",
              "    }\n",
              "</style>\n",
              "<table border=\"1\" class=\"dataframe\">\n",
              "  <thead>\n",
              "    <tr style=\"text-align: right;\">\n",
              "      <th></th>\n",
              "      <th>0</th>\n",
              "      <th>1</th>\n",
              "      <th>2</th>\n",
              "      <th>3</th>\n",
              "      <th>4</th>\n",
              "      <th>5</th>\n",
              "      <th>6</th>\n",
              "      <th>7</th>\n",
              "      <th>8</th>\n",
              "      <th>9</th>\n",
              "      <th>10</th>\n",
              "      <th>11</th>\n",
              "      <th>12</th>\n",
              "      <th>13</th>\n",
              "      <th>14</th>\n",
              "      <th>15</th>\n",
              "    </tr>\n",
              "  </thead>\n",
              "  <tbody>\n",
              "    <tr>\n",
              "      <th>0</th>\n",
              "      <td>1.0</td>\n",
              "      <td>0.0</td>\n",
              "      <td>0.0</td>\n",
              "      <td>0.0</td>\n",
              "      <td>1.0</td>\n",
              "      <td>0.0</td>\n",
              "      <td>0.0</td>\n",
              "      <td>0.0</td>\n",
              "      <td>0.0</td>\n",
              "      <td>0.0</td>\n",
              "      <td>0.0</td>\n",
              "      <td>0.0</td>\n",
              "      <td>0.0</td>\n",
              "      <td>1.0</td>\n",
              "      <td>0.0</td>\n",
              "      <td>0.0</td>\n",
              "    </tr>\n",
              "    <tr>\n",
              "      <th>1</th>\n",
              "      <td>1.0</td>\n",
              "      <td>0.0</td>\n",
              "      <td>0.0</td>\n",
              "      <td>0.0</td>\n",
              "      <td>0.0</td>\n",
              "      <td>0.0</td>\n",
              "      <td>1.0</td>\n",
              "      <td>0.0</td>\n",
              "      <td>0.0</td>\n",
              "      <td>0.0</td>\n",
              "      <td>0.0</td>\n",
              "      <td>0.0</td>\n",
              "      <td>0.0</td>\n",
              "      <td>1.0</td>\n",
              "      <td>0.0</td>\n",
              "      <td>0.0</td>\n",
              "    </tr>\n",
              "    <tr>\n",
              "      <th>2</th>\n",
              "      <td>0.0</td>\n",
              "      <td>1.0</td>\n",
              "      <td>0.0</td>\n",
              "      <td>0.0</td>\n",
              "      <td>1.0</td>\n",
              "      <td>0.0</td>\n",
              "      <td>0.0</td>\n",
              "      <td>0.0</td>\n",
              "      <td>0.0</td>\n",
              "      <td>0.0</td>\n",
              "      <td>0.0</td>\n",
              "      <td>0.0</td>\n",
              "      <td>0.0</td>\n",
              "      <td>0.0</td>\n",
              "      <td>1.0</td>\n",
              "      <td>0.0</td>\n",
              "    </tr>\n",
              "    <tr>\n",
              "      <th>3</th>\n",
              "      <td>0.0</td>\n",
              "      <td>1.0</td>\n",
              "      <td>0.0</td>\n",
              "      <td>0.0</td>\n",
              "      <td>1.0</td>\n",
              "      <td>0.0</td>\n",
              "      <td>0.0</td>\n",
              "      <td>0.0</td>\n",
              "      <td>0.0</td>\n",
              "      <td>0.0</td>\n",
              "      <td>1.0</td>\n",
              "      <td>0.0</td>\n",
              "      <td>0.0</td>\n",
              "      <td>0.0</td>\n",
              "      <td>0.0</td>\n",
              "      <td>0.0</td>\n",
              "    </tr>\n",
              "    <tr>\n",
              "      <th>4</th>\n",
              "      <td>1.0</td>\n",
              "      <td>0.0</td>\n",
              "      <td>0.0</td>\n",
              "      <td>0.0</td>\n",
              "      <td>1.0</td>\n",
              "      <td>0.0</td>\n",
              "      <td>0.0</td>\n",
              "      <td>0.0</td>\n",
              "      <td>0.0</td>\n",
              "      <td>0.0</td>\n",
              "      <td>0.0</td>\n",
              "      <td>0.0</td>\n",
              "      <td>0.0</td>\n",
              "      <td>0.0</td>\n",
              "      <td>1.0</td>\n",
              "      <td>0.0</td>\n",
              "    </tr>\n",
              "    <tr>\n",
              "      <th>...</th>\n",
              "      <td>...</td>\n",
              "      <td>...</td>\n",
              "      <td>...</td>\n",
              "      <td>...</td>\n",
              "      <td>...</td>\n",
              "      <td>...</td>\n",
              "      <td>...</td>\n",
              "      <td>...</td>\n",
              "      <td>...</td>\n",
              "      <td>...</td>\n",
              "      <td>...</td>\n",
              "      <td>...</td>\n",
              "      <td>...</td>\n",
              "      <td>...</td>\n",
              "      <td>...</td>\n",
              "      <td>...</td>\n",
              "    </tr>\n",
              "    <tr>\n",
              "      <th>12217</th>\n",
              "      <td>1.0</td>\n",
              "      <td>0.0</td>\n",
              "      <td>0.0</td>\n",
              "      <td>0.0</td>\n",
              "      <td>1.0</td>\n",
              "      <td>0.0</td>\n",
              "      <td>0.0</td>\n",
              "      <td>0.0</td>\n",
              "      <td>0.0</td>\n",
              "      <td>0.0</td>\n",
              "      <td>0.0</td>\n",
              "      <td>0.0</td>\n",
              "      <td>0.0</td>\n",
              "      <td>1.0</td>\n",
              "      <td>0.0</td>\n",
              "      <td>0.0</td>\n",
              "    </tr>\n",
              "    <tr>\n",
              "      <th>12218</th>\n",
              "      <td>1.0</td>\n",
              "      <td>0.0</td>\n",
              "      <td>0.0</td>\n",
              "      <td>0.0</td>\n",
              "      <td>1.0</td>\n",
              "      <td>0.0</td>\n",
              "      <td>0.0</td>\n",
              "      <td>0.0</td>\n",
              "      <td>0.0</td>\n",
              "      <td>0.0</td>\n",
              "      <td>1.0</td>\n",
              "      <td>0.0</td>\n",
              "      <td>0.0</td>\n",
              "      <td>0.0</td>\n",
              "      <td>0.0</td>\n",
              "      <td>0.0</td>\n",
              "    </tr>\n",
              "    <tr>\n",
              "      <th>12219</th>\n",
              "      <td>1.0</td>\n",
              "      <td>0.0</td>\n",
              "      <td>0.0</td>\n",
              "      <td>0.0</td>\n",
              "      <td>1.0</td>\n",
              "      <td>0.0</td>\n",
              "      <td>0.0</td>\n",
              "      <td>0.0</td>\n",
              "      <td>0.0</td>\n",
              "      <td>0.0</td>\n",
              "      <td>0.0</td>\n",
              "      <td>0.0</td>\n",
              "      <td>0.0</td>\n",
              "      <td>0.0</td>\n",
              "      <td>1.0</td>\n",
              "      <td>0.0</td>\n",
              "    </tr>\n",
              "    <tr>\n",
              "      <th>12220</th>\n",
              "      <td>1.0</td>\n",
              "      <td>0.0</td>\n",
              "      <td>0.0</td>\n",
              "      <td>1.0</td>\n",
              "      <td>0.0</td>\n",
              "      <td>0.0</td>\n",
              "      <td>0.0</td>\n",
              "      <td>0.0</td>\n",
              "      <td>0.0</td>\n",
              "      <td>0.0</td>\n",
              "      <td>0.0</td>\n",
              "      <td>0.0</td>\n",
              "      <td>0.0</td>\n",
              "      <td>1.0</td>\n",
              "      <td>0.0</td>\n",
              "      <td>0.0</td>\n",
              "    </tr>\n",
              "    <tr>\n",
              "      <th>12221</th>\n",
              "      <td>1.0</td>\n",
              "      <td>0.0</td>\n",
              "      <td>0.0</td>\n",
              "      <td>1.0</td>\n",
              "      <td>0.0</td>\n",
              "      <td>0.0</td>\n",
              "      <td>0.0</td>\n",
              "      <td>0.0</td>\n",
              "      <td>0.0</td>\n",
              "      <td>0.0</td>\n",
              "      <td>0.0</td>\n",
              "      <td>0.0</td>\n",
              "      <td>0.0</td>\n",
              "      <td>1.0</td>\n",
              "      <td>0.0</td>\n",
              "      <td>0.0</td>\n",
              "    </tr>\n",
              "  </tbody>\n",
              "</table>\n",
              "<p>12222 rows × 16 columns</p>\n",
              "</div>\n",
              "      <button class=\"colab-df-convert\" onclick=\"convertToInteractive('df-4a6d7e0c-353d-426f-949f-e7a8f306ac99')\"\n",
              "              title=\"Convert this dataframe to an interactive table.\"\n",
              "              style=\"display:none;\">\n",
              "        \n",
              "  <svg xmlns=\"http://www.w3.org/2000/svg\" height=\"24px\"viewBox=\"0 0 24 24\"\n",
              "       width=\"24px\">\n",
              "    <path d=\"M0 0h24v24H0V0z\" fill=\"none\"/>\n",
              "    <path d=\"M18.56 5.44l.94 2.06.94-2.06 2.06-.94-2.06-.94-.94-2.06-.94 2.06-2.06.94zm-11 1L8.5 8.5l.94-2.06 2.06-.94-2.06-.94L8.5 2.5l-.94 2.06-2.06.94zm10 10l.94 2.06.94-2.06 2.06-.94-2.06-.94-.94-2.06-.94 2.06-2.06.94z\"/><path d=\"M17.41 7.96l-1.37-1.37c-.4-.4-.92-.59-1.43-.59-.52 0-1.04.2-1.43.59L10.3 9.45l-7.72 7.72c-.78.78-.78 2.05 0 2.83L4 21.41c.39.39.9.59 1.41.59.51 0 1.02-.2 1.41-.59l7.78-7.78 2.81-2.81c.8-.78.8-2.07 0-2.86zM5.41 20L4 18.59l7.72-7.72 1.47 1.35L5.41 20z\"/>\n",
              "  </svg>\n",
              "      </button>\n",
              "      \n",
              "  <style>\n",
              "    .colab-df-container {\n",
              "      display:flex;\n",
              "      flex-wrap:wrap;\n",
              "      gap: 12px;\n",
              "    }\n",
              "\n",
              "    .colab-df-convert {\n",
              "      background-color: #E8F0FE;\n",
              "      border: none;\n",
              "      border-radius: 50%;\n",
              "      cursor: pointer;\n",
              "      display: none;\n",
              "      fill: #1967D2;\n",
              "      height: 32px;\n",
              "      padding: 0 0 0 0;\n",
              "      width: 32px;\n",
              "    }\n",
              "\n",
              "    .colab-df-convert:hover {\n",
              "      background-color: #E2EBFA;\n",
              "      box-shadow: 0px 1px 2px rgba(60, 64, 67, 0.3), 0px 1px 3px 1px rgba(60, 64, 67, 0.15);\n",
              "      fill: #174EA6;\n",
              "    }\n",
              "\n",
              "    [theme=dark] .colab-df-convert {\n",
              "      background-color: #3B4455;\n",
              "      fill: #D2E3FC;\n",
              "    }\n",
              "\n",
              "    [theme=dark] .colab-df-convert:hover {\n",
              "      background-color: #434B5C;\n",
              "      box-shadow: 0px 1px 3px 1px rgba(0, 0, 0, 0.15);\n",
              "      filter: drop-shadow(0px 1px 2px rgba(0, 0, 0, 0.3));\n",
              "      fill: #FFFFFF;\n",
              "    }\n",
              "  </style>\n",
              "\n",
              "      <script>\n",
              "        const buttonEl =\n",
              "          document.querySelector('#df-4a6d7e0c-353d-426f-949f-e7a8f306ac99 button.colab-df-convert');\n",
              "        buttonEl.style.display =\n",
              "          google.colab.kernel.accessAllowed ? 'block' : 'none';\n",
              "\n",
              "        async function convertToInteractive(key) {\n",
              "          const element = document.querySelector('#df-4a6d7e0c-353d-426f-949f-e7a8f306ac99');\n",
              "          const dataTable =\n",
              "            await google.colab.kernel.invokeFunction('convertToInteractive',\n",
              "                                                     [key], {});\n",
              "          if (!dataTable) return;\n",
              "\n",
              "          const docLinkHtml = 'Like what you see? Visit the ' +\n",
              "            '<a target=\"_blank\" href=https://colab.research.google.com/notebooks/data_table.ipynb>data table notebook</a>'\n",
              "            + ' to learn more about interactive tables.';\n",
              "          element.innerHTML = '';\n",
              "          dataTable['output_type'] = 'display_data';\n",
              "          await google.colab.output.renderOutput(dataTable, element);\n",
              "          const docLink = document.createElement('div');\n",
              "          docLink.innerHTML = docLinkHtml;\n",
              "          element.appendChild(docLink);\n",
              "        }\n",
              "      </script>\n",
              "    </div>\n",
              "  </div>\n",
              "  "
            ]
          },
          "metadata": {},
          "execution_count": 34
        }
      ]
    },
    {
      "cell_type": "code",
      "source": [
        "OH_imputed_train_X = pd.concat([imputed_train_X, OH_train_X], axis=1)\n",
        "OH_imputed_test_X = pd.concat([imputed_test_X, OH_test_X], axis=1)"
      ],
      "metadata": {
        "id": "NhhN9SXBIBeM"
      },
      "execution_count": null,
      "outputs": []
    },
    {
      "cell_type": "code",
      "source": [
        "model = RandomForestRegressor(n_estimators=50, random_state=1)\n",
        "model.fit(OH_imputed_train_X, train_y)"
      ],
      "metadata": {
        "colab": {
          "base_uri": "https://localhost:8080/"
        },
        "id": "4Otw_Ha1IOO0",
        "outputId": "39ee8fec-9caa-4ca2-bac5-efaee976cd3b"
      },
      "execution_count": null,
      "outputs": [
        {
          "output_type": "stream",
          "name": "stderr",
          "text": [
            "/usr/local/lib/python3.7/dist-packages/sklearn/utils/validation.py:1692: FutureWarning: Feature names only support names that are all strings. Got feature names with dtypes: ['int', 'str']. An error will be raised in 1.2.\n",
            "  FutureWarning,\n"
          ]
        },
        {
          "output_type": "execute_result",
          "data": {
            "text/plain": [
              "RandomForestRegressor(n_estimators=50, random_state=1)"
            ]
          },
          "metadata": {},
          "execution_count": 41
        }
      ]
    },
    {
      "cell_type": "code",
      "source": [
        "predictions = model.predict(OH_imputed_test_X)\n",
        "print(mean_absolute_error(test_y, predictions))"
      ],
      "metadata": {
        "id": "yJYsIwFyvmIp",
        "colab": {
          "base_uri": "https://localhost:8080/"
        },
        "outputId": "a1e56743-269b-41ff-d570-4619fd2ecb57"
      },
      "execution_count": null,
      "outputs": [
        {
          "output_type": "stream",
          "name": "stdout",
          "text": [
            "164775.7646910723\n"
          ]
        },
        {
          "output_type": "stream",
          "name": "stderr",
          "text": [
            "/usr/local/lib/python3.7/dist-packages/sklearn/utils/validation.py:1692: FutureWarning: Feature names only support names that are all strings. Got feature names with dtypes: ['int', 'str']. An error will be raised in 1.2.\n",
            "  FutureWarning,\n"
          ]
        }
      ]
    },
    {
      "cell_type": "markdown",
      "source": [
        "## Pipelines"
      ],
      "metadata": {
        "id": "jmta3_PlyNpq"
      }
    },
    {
      "cell_type": "code",
      "source": [
        "from sklearn.compose import ColumnTransformer\n",
        "from sklearn.pipeline import Pipeline"
      ],
      "metadata": {
        "id": "yoZK70v0MKOn"
      },
      "execution_count": null,
      "outputs": []
    },
    {
      "cell_type": "code",
      "source": [
        "numerical_transformer = SimpleImputer()\n",
        "categorical_transformer = OneHotEncoder(handle_unknown='ignore', sparse=False)"
      ],
      "metadata": {
        "id": "RFB5C7S_NTul"
      },
      "execution_count": null,
      "outputs": []
    },
    {
      "cell_type": "code",
      "source": [
        "numerical_features = ['Rooms', 'Bathroom', 'Landsize', 'Lattitude', 'Longtitude']\n",
        "categorical_features = ['Type', 'Method', 'Regionname']"
      ],
      "metadata": {
        "id": "up4mgmGAML_r"
      },
      "execution_count": null,
      "outputs": []
    },
    {
      "cell_type": "code",
      "source": [
        "preprocessor = ColumnTransformer(\n",
        "    transformers=[\n",
        "        ('num', numerical_transformer, numerical_features),\n",
        "        ('cat', categorical_transformer, categorical_features)\n",
        "    ])"
      ],
      "metadata": {
        "id": "Uw-H8CTOMJNt"
      },
      "execution_count": null,
      "outputs": []
    },
    {
      "cell_type": "code",
      "source": [
        "model = RandomForestRegressor(n_estimators=50, random_state=1)"
      ],
      "metadata": {
        "id": "p73eQUxCNfN4"
      },
      "execution_count": null,
      "outputs": []
    },
    {
      "cell_type": "code",
      "source": [
        "my_pipeline = Pipeline(steps=[('preprocessor', preprocessor),\n",
        "                              ('model', model)\n",
        "                             ])"
      ],
      "metadata": {
        "id": "2LE1iqUxOgsN"
      },
      "execution_count": null,
      "outputs": []
    },
    {
      "cell_type": "code",
      "source": [
        "df = pd.read_csv(\"melb_data.csv\")"
      ],
      "metadata": {
        "id": "LgNn8wp4znL0"
      },
      "execution_count": null,
      "outputs": []
    },
    {
      "cell_type": "code",
      "source": [
        "y = df[\"Price\"]\n",
        "X = df[numerical_features + categorical_features]"
      ],
      "metadata": {
        "id": "uvn737avOjDy"
      },
      "execution_count": null,
      "outputs": []
    },
    {
      "cell_type": "code",
      "source": [
        "train_X, test_X, train_y, test_y = train_test_split(X, y, test_size=0.1, random_state=1)"
      ],
      "metadata": {
        "id": "UHs8DI4lzpfc"
      },
      "execution_count": null,
      "outputs": []
    },
    {
      "cell_type": "code",
      "source": [
        "my_pipeline.fit(train_X, train_y)"
      ],
      "metadata": {
        "colab": {
          "base_uri": "https://localhost:8080/"
        },
        "id": "pncE9lJNOkWY",
        "outputId": "4070add0-dc71-4a4d-c561-6d93d0d75c9f"
      },
      "execution_count": null,
      "outputs": [
        {
          "output_type": "execute_result",
          "data": {
            "text/plain": [
              "Pipeline(steps=[('preprocessor',\n",
              "                 ColumnTransformer(transformers=[('num', SimpleImputer(),\n",
              "                                                  ['Rooms', 'Bathroom',\n",
              "                                                   'Landsize', 'Lattitude',\n",
              "                                                   'Longtitude']),\n",
              "                                                 ('cat',\n",
              "                                                  OneHotEncoder(handle_unknown='ignore',\n",
              "                                                                sparse=False),\n",
              "                                                  ['Type', 'Method',\n",
              "                                                   'Regionname'])])),\n",
              "                ('model',\n",
              "                 RandomForestRegressor(n_estimators=50, random_state=1))])"
            ]
          },
          "metadata": {},
          "execution_count": 52
        }
      ]
    },
    {
      "cell_type": "code",
      "source": [
        "predictions = my_pipeline.predict(test_X)\n",
        "print(mean_absolute_error(test_y, predictions))"
      ],
      "metadata": {
        "id": "pEjLrRKlO-_z",
        "colab": {
          "base_uri": "https://localhost:8080/"
        },
        "outputId": "adbf53dd-3c61-4c85-f515-f9d5d4c85ba6"
      },
      "execution_count": null,
      "outputs": [
        {
          "output_type": "stream",
          "name": "stdout",
          "text": [
            "164775.7646910723\n"
          ]
        }
      ]
    },
    {
      "cell_type": "markdown",
      "source": [
        "## Cross Validation"
      ],
      "metadata": {
        "id": "AqVcNnKv1q0O"
      }
    },
    {
      "cell_type": "code",
      "source": [
        "# Cross validation concept\n",
        "# Use with smaller datasets, no real need with large datasets"
      ],
      "metadata": {
        "id": "DSrLa8o873Wr"
      },
      "execution_count": null,
      "outputs": []
    },
    {
      "cell_type": "code",
      "source": [
        "numerical_transformer = SimpleImputer()\n",
        "categorical_transformer = OneHotEncoder(handle_unknown='ignore', sparse=False)"
      ],
      "metadata": {
        "id": "ESVU2QApAERB"
      },
      "execution_count": null,
      "outputs": []
    },
    {
      "cell_type": "code",
      "source": [
        "numerical_features = ['Rooms', 'Bathroom', 'Landsize', 'Lattitude', 'Longtitude']\n",
        "categorical_features = ['Type', 'Method', 'Regionname']"
      ],
      "metadata": {
        "id": "_lYmS_URAEOr"
      },
      "execution_count": null,
      "outputs": []
    },
    {
      "cell_type": "code",
      "source": [
        "preprocessor = ColumnTransformer(\n",
        "    transformers=[\n",
        "        ('num', numerical_transformer, numerical_features),\n",
        "        ('cat', categorical_transformer, categorical_features)\n",
        "    ])"
      ],
      "metadata": {
        "id": "33fYZBtaAEHI"
      },
      "execution_count": null,
      "outputs": []
    },
    {
      "cell_type": "code",
      "source": [
        "model = RandomForestRegressor(n_estimators=50, random_state=1)"
      ],
      "metadata": {
        "id": "EgPkCTL6AWDe"
      },
      "execution_count": null,
      "outputs": []
    },
    {
      "cell_type": "code",
      "source": [
        "my_pipeline = Pipeline(steps=[('preprocessor', preprocessor),\n",
        "                              ('model', model)\n",
        "                             ])"
      ],
      "metadata": {
        "id": "eYBvto5kAg9Q"
      },
      "execution_count": null,
      "outputs": []
    },
    {
      "cell_type": "code",
      "source": [
        "df = pd.read_csv(\"melb_data.csv\")"
      ],
      "metadata": {
        "id": "07JcShRfz38B"
      },
      "execution_count": null,
      "outputs": []
    },
    {
      "cell_type": "code",
      "source": [
        "y = df[\"Price\"]\n",
        "numerical_features = ['Rooms', 'Bathroom', 'Landsize', 'Lattitude', 'Longtitude']\n",
        "categorical_features = ['Type', 'Method', 'Regionname']\n",
        "X = df[numerical_features + categorical_features]"
      ],
      "metadata": {
        "id": "wAlSXIIEApPv"
      },
      "execution_count": null,
      "outputs": []
    },
    {
      "cell_type": "code",
      "source": [
        "from sklearn.model_selection import cross_val_score"
      ],
      "metadata": {
        "id": "YJi5yoJhz9EW"
      },
      "execution_count": null,
      "outputs": []
    },
    {
      "cell_type": "code",
      "source": [
        "scores = -1 * cross_val_score(my_pipeline, X, y, cv=10, scoring='neg_mean_absolute_error')\n",
        "print(\"MAE scores:\\n\", scores)"
      ],
      "metadata": {
        "colab": {
          "base_uri": "https://localhost:8080/"
        },
        "id": "Ke18G9HDAShq",
        "outputId": "a79f15a0-23e9-4b45-fabe-cba4cada42c2"
      },
      "execution_count": null,
      "outputs": [
        {
          "output_type": "stream",
          "name": "stdout",
          "text": [
            "MAE scores:\n",
            " [225914.20198331 193490.64865068 222890.87105828 170568.66874465\n",
            " 206145.56052458 178406.03307665 158216.61648187 157070.5091956\n",
            " 146895.79789607 176929.34546392]\n"
          ]
        }
      ]
    },
    {
      "cell_type": "code",
      "source": [
        "scores.mean()"
      ],
      "metadata": {
        "colab": {
          "base_uri": "https://localhost:8080/"
        },
        "id": "vg413ye_A6Tv",
        "outputId": "35c4049d-5f59-4df1-8ec0-18393bb27c17"
      },
      "execution_count": null,
      "outputs": [
        {
          "output_type": "execute_result",
          "data": {
            "text/plain": [
              "183652.82530756015"
            ]
          },
          "metadata": {},
          "execution_count": 65
        }
      ]
    },
    {
      "cell_type": "markdown",
      "source": [
        "## Time to test your knowledge!"
      ],
      "metadata": {
        "id": "OV_2MMXAaUpl"
      }
    },
    {
      "cell_type": "markdown",
      "source": [
        "### Question 1 - Gradient Boosting Machines"
      ],
      "metadata": {
        "id": "0mkt5rdQnQOW"
      }
    },
    {
      "cell_type": "markdown",
      "source": [
        "Use scikit learn to train an XGBoost model instead of a random forest to solve the problem above. Submit your code!\n"
      ],
      "metadata": {
        "id": "u05zhlzpr228"
      }
    },
    {
      "cell_type": "markdown",
      "source": [
        "## What's next?\n",
        "\n",
        "- Kaggle course: https://www.kaggle.com/learn/intermediate-machine-learning\n",
        "- Scikit-learn docs: https://scikit-learn.org/stable/\n"
      ],
      "metadata": {
        "id": "kAAO7wotpEKV"
      }
    },
    {
      "cell_type": "markdown",
      "source": [
        "## ML Study Jam Summary\n",
        "\n",
        "- Intro to Python Programming\n",
        "- Data Analysis with Pandas\n",
        "- Basic Machine Learning Concepts\n",
        "- Intermediate Machine Learning\n"
      ],
      "metadata": {
        "id": "tNMKtz-q0fRn"
      }
    },
    {
      "cell_type": "markdown",
      "source": [
        "## Machine Learning Tech Talk next week!\n",
        "\n",
        "We have free food and free swag next week, and we're inviting a machine learning industry expert to give an ML tech talk on his lessons learned in applying ML in the real world.\n",
        "\n",
        "Please register here:\n",
        "https://organize.mlh.io/participants/events/8792-machine-learning-tech-talk-at-iowa-state-university"
      ],
      "metadata": {
        "id": "BwMwVrUJbnRG"
      }
    },
    {
      "cell_type": "code",
      "source": [],
      "metadata": {
        "id": "kF442HFkLL0G"
      },
      "execution_count": null,
      "outputs": []
    }
  ]
}